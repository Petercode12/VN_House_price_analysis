{
  "nbformat": 4,
  "nbformat_minor": 0,
  "metadata": {
    "colab": {
      "name": "AnhTamtask1",
      "provenance": [],
      "collapsed_sections": [],
      "include_colab_link": true
    },
    "kernelspec": {
      "name": "python3",
      "display_name": "Python 3"
    },
    "language_info": {
      "name": "python"
    }
  },
  "cells": [
    {
      "cell_type": "markdown",
      "metadata": {
        "id": "view-in-github",
        "colab_type": "text"
      },
      "source": [
        "<a href=\"https://colab.research.google.com/github/Petercode12/VN_House_price_analysis/blob/main/AnhTamtask1.ipynb\" target=\"_parent\"><img src=\"https://colab.research.google.com/assets/colab-badge.svg\" alt=\"Open In Colab\"/></a>"
      ]
    },
    {
      "cell_type": "code",
      "metadata": {
        "id": "DiydScyA6Q2Y"
      },
      "source": [
        "import numpy as np\n",
        "import matplotlib.pyplot as plt\n",
        "import matplotlib.lines as mlines\n",
        "import matplotlib.transforms as mtransforms\n",
        "import pandas as pd\n",
        "import seaborn as sns"
      ],
      "execution_count": null,
      "outputs": []
    },
    {
      "cell_type": "markdown",
      "metadata": {
        "id": "kQ3r3mwr68lM"
      },
      "source": [
        "# Import Data"
      ]
    },
    {
      "cell_type": "code",
      "metadata": {
        "colab": {
          "base_uri": "https://localhost:8080/"
        },
        "id": "WKoIMCoi6_YI",
        "outputId": "d1addce2-d380-4f2b-e7f6-441250c01381"
      },
      "source": [
        "%%shell\n",
        "cd /content\n",
        "gdown -q --id \"1L_9NzgppycZwQgK6UvHjpQJS-bzNMfot\""
      ],
      "execution_count": null,
      "outputs": [
        {
          "output_type": "execute_result",
          "data": {
            "text/plain": [
              ""
            ]
          },
          "metadata": {},
          "execution_count": 2
        }
      ]
    },
    {
      "cell_type": "code",
      "metadata": {
        "colab": {
          "base_uri": "https://localhost:8080/"
        },
        "id": "Tu6m2r_17Wbk",
        "outputId": "3b08bad9-4206-41f8-df01-c5ea9ff51976"
      },
      "source": [
        "df = pd.read_csv(\"real-estate-content-8.csv\")\n",
        "print(df.head())"
      ],
      "execution_count": null,
      "outputs": [
        {
          "output_type": "stream",
          "name": "stdout",
          "text": [
            "                                                 url  ...    website\n",
            "0  https://nhadat247.com.vn/cho-thue-van-phong/ch...  ...  nhadat247\n",
            "1  https://nhadat247.com.vn/cho-thue-nha-mat-pho/...  ...  nhadat247\n",
            "2  https://nhadat247.com.vn/cho-thue-van-phong/ca...  ...  nhadat247\n",
            "3  https://nhadat247.com.vn/cho-thue-can-ho-chung...  ...  nhadat247\n",
            "4  https://nhadat247.com.vn/cho-thue-can-ho-chung...  ...  nhadat247\n",
            "\n",
            "[5 rows x 47 columns]\n"
          ]
        },
        {
          "output_type": "stream",
          "name": "stderr",
          "text": [
            "/usr/local/lib/python3.7/dist-packages/IPython/core/interactiveshell.py:2718: DtypeWarning: Columns (7,8,20) have mixed types.Specify dtype option on import or set low_memory=False.\n",
            "  interactivity=interactivity, compiler=compiler, result=result)\n"
          ]
        }
      ]
    },
    {
      "cell_type": "code",
      "metadata": {
        "colab": {
          "base_uri": "https://localhost:8080/"
        },
        "id": "XME7r21d74Uc",
        "outputId": "1eabc9d4-260c-40fc-cbc6-bea6f27fdef8"
      },
      "source": [
        "df.shape\n",
        "df.info()"
      ],
      "execution_count": null,
      "outputs": [
        {
          "output_type": "stream",
          "name": "stdout",
          "text": [
            "<class 'pandas.core.frame.DataFrame'>\n",
            "RangeIndex: 19137 entries, 0 to 19136\n",
            "Data columns (total 47 columns):\n",
            " #   Column                Non-Null Count  Dtype  \n",
            "---  ------                --------------  -----  \n",
            " 0   url                   19137 non-null  object \n",
            " 1   post_title            19137 non-null  object \n",
            " 2   price_unit            19137 non-null  object \n",
            " 3   price                 19137 non-null  object \n",
            " 4   total_site_area       19137 non-null  object \n",
            " 5   property_name         19137 non-null  object \n",
            " 6   address_id            19137 non-null  object \n",
            " 7   number_of_bedrooms    11758 non-null  object \n",
            " 8   number_of_bathrooms   451 non-null    object \n",
            " 9   project_id            19137 non-null  object \n",
            " 10  project_size          19137 non-null  object \n",
            " 11  post_author           19137 non-null  object \n",
            " 12  property_code         19137 non-null  int64  \n",
            " 13  full_description      19137 non-null  object \n",
            " 14  phone_number          19137 non-null  object \n",
            " 15  email                 19137 non-null  object \n",
            " 16  property_type_id      19137 non-null  object \n",
            " 17  property_sub_type_id  19137 non-null  object \n",
            " 18  block_code            19137 non-null  object \n",
            " 19  block_name            19137 non-null  object \n",
            " 20  number_of_floors      3852 non-null   object \n",
            " 21  floor                 19137 non-null  object \n",
            " 22  house_design          19137 non-null  object \n",
            " 23  direction             19137 non-null  object \n",
            " 24  building_area         19137 non-null  object \n",
            " 25  carpet_areas          19137 non-null  object \n",
            " 26  unit_of_measure_id    19137 non-null  object \n",
            " 27  owner_is_author       19137 non-null  int64  \n",
            " 28  owner_id              19137 non-null  object \n",
            " 29  longitude             18694 non-null  float64\n",
            " 30  latitude              18694 non-null  float64\n",
            " 31  legal_info            19137 non-null  object \n",
            " 32  internal_facility     19137 non-null  object \n",
            " 33  near_facility         19137 non-null  object \n",
            " 34  front_length          19125 non-null  object \n",
            " 35  route_length          19126 non-null  object \n",
            " 36  updated_datetime      19137 non-null  object \n",
            " 37  created_datetime      19137 non-null  object \n",
            " 38  expired_datetime      19118 non-null  object \n",
            " 39  is_called_api         19137 non-null  int64  \n",
            " 40  images                17632 non-null  object \n",
            " 41  city                  19137 non-null  object \n",
            " 42  district              19137 non-null  object \n",
            " 43  ward_commune          19137 non-null  object \n",
            " 44  street                19137 non-null  object \n",
            " 45  match_location        19137 non-null  object \n",
            " 46  website               19137 non-null  object \n",
            "dtypes: float64(2), int64(3), object(42)\n",
            "memory usage: 6.9+ MB\n"
          ]
        }
      ]
    },
    {
      "cell_type": "markdown",
      "metadata": {
        "id": "_ZwyK7MtzgA5"
      },
      "source": [
        "**SELECT FEATURES**"
      ]
    },
    {
      "cell_type": "code",
      "metadata": {
        "colab": {
          "base_uri": "https://localhost:8080/"
        },
        "id": "tTT7srwnhJ8q",
        "outputId": "1ef3feba-fe9b-4d8c-c527-8a7ef3cb55d8"
      },
      "source": [
        "df2 = df[[ 'total_site_area', 'property_name', 'number_of_bedrooms','city', 'district' ,'price_unit' ]]\n",
        "print(df2.head())\n",
        "print(df2.tail())\n",
        "print(df2.shape)"
      ],
      "execution_count": null,
      "outputs": [
        {
          "output_type": "stream",
          "name": "stdout",
          "text": [
            "  total_site_area       property_name  ...       district       price_unit\n",
            "0           60 m²  cho thuê văn phòng  ...      Hoàng Mai    6 Triệu/tháng\n",
            "1          110 m²           Nhà riêng  ...        Đống Đa   60 Triệu/tháng\n",
            "2          700 m²  cho thuê văn phòng  ...         Quận 2  158 Triệu/tháng\n",
            "3           80 m²              Căn hộ  ...   Hai Bà Trưng   10 Triệu/tháng\n",
            "4           89 m²              Căn hộ  ...    Bắc Từ Liêm   13 Triệu/tháng\n",
            "\n",
            "[5 rows x 6 columns]\n",
            "      total_site_area property_name  ... district      price_unit\n",
            "19132           88 m²        Căn hộ  ...   Quận 2  19 triệu/tháng\n",
            "19133           40 m²     Nhà riêng  ...   Tây Hồ  15 triệu/tháng\n",
            "19134          100 m²        Căn hộ  ...   Quận 4  19 triệu/tháng\n",
            "19135           60 m²        Căn hộ  ...   Quận 9   6 triệu/tháng\n",
            "19136           74 m²        Căn hộ  ...   Quận 4  15 triệu/tháng\n",
            "\n",
            "[5 rows x 6 columns]\n",
            "(19137, 6)\n"
          ]
        }
      ]
    },
    {
      "cell_type": "markdown",
      "metadata": {
        "id": "xptDAvCkzm0K"
      },
      "source": [
        "**CLEAN NULL DATA**"
      ]
    },
    {
      "cell_type": "code",
      "metadata": {
        "colab": {
          "base_uri": "https://localhost:8080/"
        },
        "id": "YWTQZBkePL-7",
        "outputId": "a2f927ac-aa6c-4628-91d4-11b9548182c3"
      },
      "source": [
        "print(df2.isnull().sum())\n",
        "df2 = df2[~(df2.price_unit == ' ')]\n",
        "df2 = df2[~(df2.total_site_area == ' ')]\n",
        "df2 = df2.dropna()\n"
      ],
      "execution_count": null,
      "outputs": [
        {
          "output_type": "stream",
          "name": "stdout",
          "text": [
            "total_site_area          0\n",
            "property_name            0\n",
            "number_of_bedrooms    7379\n",
            "city                     0\n",
            "district                 0\n",
            "price_unit               0\n",
            "dtype: int64\n"
          ]
        }
      ]
    },
    {
      "cell_type": "code",
      "metadata": {
        "colab": {
          "base_uri": "https://localhost:8080/"
        },
        "id": "hvMfg_dqexE9",
        "outputId": "df0497e0-6b62-4a6c-e0d8-376af7d46425"
      },
      "source": [
        "print(df2.isnull().sum())\n",
        "print(len(df2))"
      ],
      "execution_count": null,
      "outputs": [
        {
          "output_type": "stream",
          "name": "stdout",
          "text": [
            "total_site_area       0\n",
            "property_name         0\n",
            "number_of_bedrooms    0\n",
            "city                  0\n",
            "district              0\n",
            "price_unit            0\n",
            "dtype: int64\n",
            "11014\n"
          ]
        }
      ]
    },
    {
      "cell_type": "markdown",
      "metadata": {
        "id": "8fKEWHNb3loy"
      },
      "source": [
        "**Preprocessing price_unit**"
      ]
    },
    {
      "cell_type": "code",
      "metadata": {
        "colab": {
          "base_uri": "https://localhost:8080/"
        },
        "id": "MSCNpkbEmsmG",
        "outputId": "62502f7e-48a1-4669-aca2-8763b5199027"
      },
      "source": [
        "text_unique = set()\n",
        "for obj in df2['price_unit']:\n",
        "  text_unique.add(obj.split(' ')[1])\n",
        "print(text_unique)\n",
        "print(len(df2['price_unit']))\n",
        "# text_unique = df2['price_unit']\n",
        "# print(text_unique.split(' ')[1])"
      ],
      "execution_count": null,
      "outputs": [
        {
          "output_type": "stream",
          "name": "stdout",
          "text": [
            "{'thuận', 'Triệu/m²', 'Triệu/tháng', 'triệu/tháng', 'triệu/m2/tháng', 'triệu/m²', 'nghìn/m2/tháng'}\n",
            "11014\n"
          ]
        }
      ]
    },
    {
      "cell_type": "code",
      "metadata": {
        "id": "aLLBOhRlqoFd"
      },
      "source": [
        "indexes_to_drop = []\n",
        "df2_left_indexes = list(df2.index.values)\n",
        "left_size = len(df2_left_indexes)\n",
        "for index in range (left_size):\n",
        "  if(df2['price_unit'][df2_left_indexes[index]].split(' ')[1] == 'nghìn/m2/tháng'):\n",
        "    area = df2['total_site_area'][df2_left_indexes[index]]\n",
        "    final_data =  df2['price_unit'][df2_left_indexes[index]].split(' ')[0]\n",
        "    leng = len(final_data)\n",
        "    final_data = float(final_data) * pow(10,-leng)\n",
        "    area = float(area.split(' ')[0])\n",
        "    final_data = final_data*area\n",
        "    df2['price_unit'][df2_left_indexes[index]] = final_data\n",
        "  elif (df2['price_unit'][df2_left_indexes[index]].split(' ')[1] == 'triệu/m2/tháng'):\n",
        "    area = df2['total_site_area'][df2_left_indexes[index]]\n",
        "    final_data =  df2['price_unit'][df2_left_indexes[index]].split(' ')[0]\n",
        "    final_data = float(final_data)\n",
        "    area = float(area.split(' ')[0])\n",
        "    final_data = final_data*area\n",
        "    df2['price_unit'][df2_left_indexes[index]] = final_data\n",
        "  elif (df2['price_unit'][df2_left_indexes[index]].split(' ')[1] == 'Triệu/m²' or  df2['price_unit'][df2_left_indexes[index]].split(' ')[1] == 'nghìn/m²' or df2['price_unit'][df2_left_indexes[index]].split(' ')[1] == 'triệu/m²' or df2['price_unit'][df2_left_indexes[index]].split(' ')[1] == 'thuận' or df2['price_unit'][df2_left_indexes[index]].split(' ')[1] == ' ' ):\n",
        "    indexes_to_drop.append(index)\n",
        "  elif (df2['price_unit'][df2_left_indexes[index]].split(' ')[1] == 'nghìn/tháng'):\n",
        "    final_data =  df2['price_unit'][df2_left_indexes[index]].split(' ')[0]\n",
        "    leng = len(final_data)\n",
        "    final_data = float(final_data) * pow(10,-leng)\n",
        "    df2['price_unit'][df2_left_indexes[index]] = final_data\n",
        "  elif (df2['price_unit'][df2_left_indexes[index]].split(' ')[1] == 'Triệu/tháng' or df2['price_unit'][df2_left_indexes[index]].split(' ')[1] == 'triệu/tháng' ):\n",
        "    final_data =  df2['price_unit'][df2_left_indexes[index]].split(' ')[0]\n",
        "    df2['price_unit'][df2_left_indexes[index]] = float(final_data)\n",
        "\n",
        "indexes_to_keep = set(range(df2.shape[0])) - set(indexes_to_drop)\n",
        "df2 = df2.take(list(indexes_to_keep))\n",
        "\n"
      ],
      "execution_count": null,
      "outputs": []
    },
    {
      "cell_type": "markdown",
      "metadata": {
        "id": "lG94fS1g4gBy"
      },
      "source": [
        "**Preprocessing house size**"
      ]
    },
    {
      "cell_type": "code",
      "metadata": {
        "colab": {
          "base_uri": "https://localhost:8080/"
        },
        "id": "gZxJUZrK-_Ui",
        "outputId": "dc731d1a-6105-4b99-ab7f-dc899f108776"
      },
      "source": [
        "df2 = df2[~(df2.total_site_area == 'm²')]\n",
        "print(df2['total_site_area'].unique())\n"
      ],
      "execution_count": null,
      "outputs": [
        {
          "output_type": "stream",
          "name": "stdout",
          "text": [
            "['60 m²' '110 m²' '700 m²' '80 m²' '89 m²' '500 m²' '135 m²' '86 m²'\n",
            " '24 m²' '78 m²' '120 m²' '30 m²' '40 m²' '68 m²' '144 m²' '35 m²' '45 m²'\n",
            " '55 m²' '88 m²' '72 m²' '74 m²' '54 m²' '94 m²' '63 m²' '85 m²' '50 m²'\n",
            " '76 m²' '100 m²' '90 m²' '108.3 m²' '123 m²' '70 m²' '91 m²' '98 m²'\n",
            " '59 m²' '115 m²' '95 m²' '50.33 m²' '145 m²' '160 m²' '71 m²' '112 m²'\n",
            " '69 m²' '65 m²' '102 m²' '200 m²' '187 m²' '75 m²' '49 m²' '800 m²'\n",
            " '56 m²' '66.38 m²' '51 m²' '34 m²' '87 m²' '64 m²' '1000 m²' '16 m²'\n",
            " '67 m²' '38 m²' '73 m²' '105 m²' '320 m²' '90.78 m²' '43 m²' '81 m²'\n",
            " '96 m²' '109 m²' '150 m²' '600 m²' '384 m²' '47 m²' '107 m²' '175 m²'\n",
            " '125 m²' '82 m²' '140 m²' '53 m²' '92 m²' '141 m²' '29 m²' '28 m²'\n",
            " '25 m²' '84 m²' '162 m²' '153 m²' '77 m²' '130 m²' '124 m²' '83 m²'\n",
            " '146 m²' '256 m²' '78.42 m²' '79 m²' '42 m²' '57 m²' '37 m²' '48 m²'\n",
            " '66 m²' '127 m²' '52 m²' '185 m²' '108 m²' '97 m²' '128 m²' '111 m²'\n",
            " '72.25 m²' '134 m²' '126 m²' '104 m²' '58.8 m²' '99 m²' '300 m²'\n",
            " '157.5 m²' '448 m²' '67.5 m²' '143 m²' '61 m²' '116 m²' '132 m²'\n",
            " '62.27 m²' '101 m²' '36 m²' '32 m²' '240 m²' '33 m²' '180 m²' '155 m²'\n",
            " '129 m²' '118 m²' '216 m²' '27.5 m²' '58 m²' '106 m²' '100.2 m²' '103 m²'\n",
            " '250 m²' '380 m²' '62 m²' '113 m²' '181 m²' '95.38 m²' '60.48 m²'\n",
            " '73.9 m²' '122 m²' '212.5 m²' '310 m²' '103.5 m²' '38.4 m²' '138 m²'\n",
            " '273 m²' '72.95 m²' '46 m²' '340 m²' '94.6 m²' '220 m²' '161 m²'\n",
            " '148.7 m²' '450 m²' '67.58 m²' '27 m²' '72.45 m²' '360 m²' '69.7 m²'\n",
            " '1500 m²' '2000 m²' '152 m²' '67.8 m²' '170 m²' '69.9 m²' '31 m²'\n",
            " '1125 m²' '98.9 m²' '133 m²' '117 m²' '18 m²' '114 m²' '171 m²' '550 m²'\n",
            " '400 m²' '20 m²' '93 m²' '172 m²' '105.6 m²' '304 m²' '154 m²' '83.25 m²'\n",
            " '50.4 m²' '66.8 m²' '158 m²' '74.25 m²' '156 m²' '78.88 m²' '194 m²'\n",
            " '142 m²' '512 m²' '480 m²' '45.5 m²' '91.4 m²' '70.12 m²' '147 m²'\n",
            " '44 m²' '198 m²' '72.9 m²' '22 m²' '90.8 m²' '136 m²' '93.6 m²' '60.4 m²'\n",
            " '41 m²' '207 m²' '184 m²' '87.4 m²' '52.2 m²' '21 m²' '100.6 m²' '352 m²'\n",
            " '37.4 m²' '460 m²' '280 m²' '86.4 m²' '161.5 m²' '34.96 m²' '60.6 m²'\n",
            " '210 m²' '19.2 m²' '157 m²' '81.7 m²' '632.5 m²' '148 m²' '56.3 m²'\n",
            " '61.48 m²' '197 m²' '119 m²' '167 m²' '1800 m²' '131 m²' '231 m²'\n",
            " '103.6 m²' '525 m²' '70.5 m²' '149 m²' '67.06 m²' '296 m²' '86.2 m²'\n",
            " '47.75 m²' '26 m²' '69.2 m²' '139 m²' '846 m²' '121.5 m²' '129.6 m²'\n",
            " '325 m²' '151 m²' '58.61 m²' '109.4 m²' '456 m²' '164 m²' '57.9 m²'\n",
            " '279 m²' '191 m²' '1665 m²' '39 m²' '324 m²' '117.5 m²' '76.5 m²'\n",
            " '350 m²' '88.2 m²' '102.5 m²' '640 m²' '23 m²' '92.25 m²' '420 m²'\n",
            " '72.82 m²' '78.6 m²' '70.83 m²' '260 m²' '71.42 m²' '40.3 m²' '225 m²'\n",
            " '121 m²' '199 m²' '57.2 m²' '82.1 m²' '151.7 m²' '12 m²' '2640 m²'\n",
            " '75.6 m²' '173 m²' '188 m²' '545 m²' '182 m²' '165 m²' '52.5 m²'\n",
            " '96.8 m²' '91.25 m²' '31.5 m²' '330 m²' '178 m²' '106.9 m²' '900 m²'\n",
            " '192 m²' '65.66 m²' '72.96 m²' '190 m²' '71.4 m²' '72.27 m²' '230 m²'\n",
            " '255 m²' '76.1 m²' '58.1 m²' '71.5 m²' '120.6 m²' '88.3 m²' '1020 m²'\n",
            " '127.5 m²' '55.5 m²' '195 m²' '336 m²' '65.2 m²' '43.7 m²' '72.8 m²'\n",
            " '236 m²' '77.4 m²' '655 m²' '68.8 m²' '840 m²' '88.5 m²' '92.28 m²'\n",
            " '92.33 m²' '80.7 m²' '59.5 m²' '270 m²' '56.4 m²' '416 m²' '68.74 m²'\n",
            " '406 m²' '1260 m²' '206 m²' '69.8 m²' '136.5 m²' '72.73 m²' '2400 m²'\n",
            " '580 m²' '370 m²' '70.9 m²' '355 m²' '137 m²' '222 m²' '46.5 m²'\n",
            " '82.5 m²' '35.2 m²' '166 m²' '510 m²' '90.25 m²' '453 m²' '437 m²'\n",
            " '17.2 m²' '45.6 m²' '60.8 m²' '68.25 m²' '648 m²' '238 m²' '93.2 m²'\n",
            " '60.3 m²' '51.7 m²' '59.2 m²' '48.5 m²' '27.8 m²' '48.8 m²' '38.25 m²'\n",
            " '72.91 m²' '272 m²' '70.6 m²' '67.2 m²' '208 m²' '79.8 m²' '252 m²'\n",
            " '136.4 m²' '540 m²' '51.3 m²' '212 m²' '30.5 m²' '68.6 m²' '158.4 m²'\n",
            " '108.5 m²' '56.95 m²' '215 m²' '1400 m²' '623 m²' '51.6 m²' '68.5 m²'\n",
            " '290 m²' '105.9 m²' '65.34 m²' '62.26 m²' '46.2 m²' '176 m²' '750 m²'\n",
            " '73.53 m²' '70.2 m²' '72.72 m²' '91.23 m²' '59.95 m²' '76.2 m²' '84.3 m²'\n",
            " '425 m²' '91.2 m²' '65.65 m²' '1100 m²' '53.28 m²' '72.4 m²' '70.4 m²'\n",
            " '75.37 m²' '27.6 m²' '112.5 m²' '1300 m²' '111.7 m²' '84.85 m²' '76.4 m²'\n",
            " '61.7 m²' '57.77 m²' '342 m²' '88.64 m²' '39.6 m²' '80.6 m²' '186 m²'\n",
            " '85.5 m²' '90.6 m²' '24.5 m²' '80.5 m²' '102.7 m²' '265 m²' '375 m²'\n",
            " '251 m²' '77.21 m²' '168 m²' '344 m²' '850 m²' '169 m²' '234 m²'\n",
            " '90.24 m²' '440 m²' '78.72 m²' '275 m²' '530 m²' '117.6 m²' '650 m²'\n",
            " '159 m²' '44.6 m²' '82.4 m²' '405 m²' '67.27 m²' '43.2 m²' '520 m²'\n",
            " '65.5 m²' '61.5 m²' '72.86 m²' '100.8 m²' '73.5 m²' '66.23 m²' '232 m²'\n",
            " '436 m²' '65.56 m²' '101.78 m²' '71.52 m²' '81.8 m²' '62.25 m²' '65.4 m²'\n",
            " '153.6 m²' '100.79 m²']\n"
          ]
        }
      ]
    },
    {
      "cell_type": "code",
      "metadata": {
        "colab": {
          "base_uri": "https://localhost:8080/"
        },
        "id": "5XWGPix57PVQ",
        "outputId": "79e9623a-838e-438d-dd06-99107fcd3bfb"
      },
      "source": [
        "df2_left_indexes = list(df2.index.values)\n",
        "left_size = len(df2_left_indexes)\n",
        "for index in range (left_size):\n",
        "  df2['total_site_area'][df2_left_indexes[index]] = float(df2['total_site_area'][df2_left_indexes[index]].split(' ')[0])\n",
        "print(df2['total_site_area'].unique())\n"
      ],
      "execution_count": null,
      "outputs": [
        {
          "output_type": "stream",
          "name": "stdout",
          "text": [
            "[60.0 110.0 700.0 80.0 89.0 500.0 135.0 86.0 24.0 78.0 120.0 30.0 40.0\n",
            " 68.0 144.0 35.0 45.0 55.0 88.0 72.0 74.0 54.0 94.0 63.0 85.0 50.0 76.0\n",
            " 100.0 90.0 108.3 123.0 70.0 91.0 98.0 59.0 115.0 95.0 50.33 145.0 160.0\n",
            " 71.0 112.0 69.0 65.0 102.0 200.0 187.0 75.0 49.0 800.0 56.0 66.38 51.0\n",
            " 34.0 87.0 64.0 1000.0 16.0 67.0 38.0 73.0 105.0 320.0 90.78 43.0 81.0\n",
            " 96.0 109.0 150.0 600.0 384.0 47.0 107.0 175.0 125.0 82.0 140.0 53.0 92.0\n",
            " 141.0 29.0 28.0 25.0 84.0 162.0 153.0 77.0 130.0 124.0 83.0 146.0 256.0\n",
            " 78.42 79.0 42.0 57.0 37.0 48.0 66.0 127.0 52.0 185.0 108.0 97.0 128.0\n",
            " 111.0 72.25 134.0 126.0 104.0 58.8 99.0 300.0 157.5 448.0 67.5 143.0 61.0\n",
            " 116.0 132.0 62.27 101.0 36.0 32.0 240.0 33.0 180.0 155.0 129.0 118.0\n",
            " 216.0 27.5 58.0 106.0 100.2 103.0 250.0 380.0 62.0 113.0 181.0 95.38\n",
            " 60.48 73.9 122.0 212.5 310.0 103.5 38.4 138.0 273.0 72.95 46.0 340.0 94.6\n",
            " 220.0 161.0 148.7 450.0 67.58 27.0 72.45 360.0 69.7 1500.0 2000.0 152.0\n",
            " 67.8 170.0 69.9 31.0 1125.0 98.9 133.0 117.0 18.0 114.0 171.0 550.0 400.0\n",
            " 20.0 93.0 172.0 105.6 304.0 154.0 83.25 50.4 66.8 158.0 74.25 156.0 78.88\n",
            " 194.0 142.0 512.0 480.0 45.5 91.4 70.12 147.0 44.0 198.0 72.9 22.0 90.8\n",
            " 136.0 93.6 60.4 41.0 207.0 184.0 87.4 52.2 21.0 100.6 352.0 37.4 460.0\n",
            " 280.0 86.4 161.5 34.96 60.6 210.0 19.2 157.0 81.7 632.5 148.0 56.3 61.48\n",
            " 197.0 119.0 167.0 1800.0 131.0 231.0 103.6 525.0 70.5 149.0 67.06 296.0\n",
            " 86.2 47.75 26.0 69.2 139.0 846.0 121.5 129.6 325.0 151.0 58.61 109.4\n",
            " 456.0 164.0 57.9 279.0 191.0 1665.0 39.0 324.0 117.5 76.5 350.0 88.2\n",
            " 102.5 640.0 23.0 92.25 420.0 72.82 78.6 70.83 260.0 71.42 40.3 225.0\n",
            " 121.0 199.0 57.2 82.1 151.7 12.0 2640.0 75.6 173.0 188.0 545.0 182.0\n",
            " 165.0 52.5 96.8 91.25 31.5 330.0 178.0 106.9 900.0 192.0 65.66 72.96\n",
            " 190.0 71.4 72.27 230.0 255.0 76.1 58.1 71.5 120.6 88.3 1020.0 127.5 55.5\n",
            " 195.0 336.0 65.2 43.7 72.8 236.0 77.4 655.0 68.8 840.0 88.5 92.28 92.33\n",
            " 80.7 59.5 270.0 56.4 416.0 68.74 406.0 1260.0 206.0 69.8 136.5 72.73\n",
            " 2400.0 580.0 370.0 70.9 355.0 137.0 222.0 46.5 82.5 35.2 166.0 510.0\n",
            " 90.25 453.0 437.0 17.2 45.6 60.8 68.25 648.0 238.0 93.2 60.3 51.7 59.2\n",
            " 48.5 27.8 48.8 38.25 72.91 272.0 70.6 67.2 208.0 79.8 252.0 136.4 540.0\n",
            " 51.3 212.0 30.5 68.6 158.4 108.5 56.95 215.0 1400.0 623.0 51.6 68.5 290.0\n",
            " 105.9 65.34 62.26 46.2 176.0 750.0 73.53 70.2 72.72 91.23 59.95 76.2 84.3\n",
            " 425.0 91.2 65.65 1100.0 53.28 72.4 70.4 75.37 27.6 112.5 1300.0 111.7\n",
            " 84.85 76.4 61.7 57.77 342.0 88.64 39.6 80.6 186.0 85.5 90.6 24.5 80.5\n",
            " 102.7 265.0 375.0 251.0 77.21 168.0 344.0 850.0 169.0 234.0 90.24 440.0\n",
            " 78.72 275.0 530.0 117.6 650.0 159.0 44.6 82.4 405.0 67.27 43.2 520.0 65.5\n",
            " 61.5 72.86 100.8 73.5 66.23 232.0 436.0 65.56 101.78 71.52 81.8 62.25\n",
            " 65.4 153.6 100.79]\n"
          ]
        }
      ]
    },
    {
      "cell_type": "markdown",
      "metadata": {
        "id": "32YT5SVD56mg"
      },
      "source": [
        "## property_name preprocessing - labeling"
      ]
    },
    {
      "cell_type": "code",
      "metadata": {
        "colab": {
          "base_uri": "https://localhost:8080/"
        },
        "id": "1EryxYRZ5XHH",
        "outputId": "685c2f96-42e2-449a-a808-47f99fe4adc4"
      },
      "source": [
        "df2['property_name'].unique()"
      ],
      "execution_count": null,
      "outputs": [
        {
          "output_type": "execute_result",
          "data": {
            "text/plain": [
              "array(['cho thuê văn phòng', 'Nhà riêng', 'Căn hộ', 'Đất nền',\n",
              "       'Cho thuê cửa hàng, ki ốt', 'Cho thuê văn phòng'], dtype=object)"
            ]
          },
          "metadata": {},
          "execution_count": 12
        }
      ]
    },
    {
      "cell_type": "code",
      "metadata": {
        "colab": {
          "base_uri": "https://localhost:8080/"
        },
        "id": "22xyvWF96FTI",
        "outputId": "96f6f31c-c5ba-45a0-ae27-25b3ec32ce9f"
      },
      "source": [
        "df2_left_indexes = list(df2.index.values)\n",
        "left_size = len(df2_left_indexes)\n",
        "empty_list = []\n",
        "for index in range(left_size):\n",
        "  if(df2['property_name'][df2_left_indexes[index]] == ' '):\n",
        "    empty_list.append(index)\n",
        "print(empty_list)\n",
        "print(len(empty_list))\n",
        "# print(set(range(df2.shape[0])))\n"
      ],
      "execution_count": null,
      "outputs": [
        {
          "output_type": "stream",
          "name": "stdout",
          "text": [
            "[]\n",
            "0\n"
          ]
        }
      ]
    },
    {
      "cell_type": "code",
      "metadata": {
        "colab": {
          "base_uri": "https://localhost:8080/"
        },
        "id": "_Db1Cy7U0jgI",
        "outputId": "06b74246-09c0-46ac-f929-2b87d9ee1827"
      },
      "source": [
        "df2_left_indexes = list(df2.index.values)\n",
        "left_size = len(df2_left_indexes)\n",
        "for index in range(left_size):\n",
        "  if(df2['property_name'][df2_left_indexes[index]] == 'cho thuê văn phòng' or df2['property_name'][df2_left_indexes[index]] == 'Cho thuê văn phòng' ):\n",
        "    df2['property_name'][df2_left_indexes[index]] = 0\n",
        "  elif(df2['property_name'][df2_left_indexes[index]] == 'Cho thuê cửa hàng, ki ốt' ):\n",
        "    df2['property_name'][df2_left_indexes[index]] = 1\n",
        "  elif(df2['property_name'][df2_left_indexes[index]] == 'Nhà riêng' ):\n",
        "    df2['property_name'][df2_left_indexes[index]] = 2\n",
        "  elif(df2['property_name'][df2_left_indexes[index]] == 'Căn hộ' ):\n",
        "    df2['property_name'][df2_left_indexes[index]] = 3\n",
        "  elif(df2['property_name'][df2_left_indexes[index]] == 'Đất nền' ):\n",
        "    df2['property_name'][df2_left_indexes[index]] = 4\n",
        "\n",
        "print(df2['property_name'].unique())"
      ],
      "execution_count": null,
      "outputs": [
        {
          "output_type": "stream",
          "name": "stdout",
          "text": [
            "[0 2 3 4 1]\n"
          ]
        }
      ]
    },
    {
      "cell_type": "markdown",
      "metadata": {
        "id": "BVZrGbwFxegk"
      },
      "source": [
        "## Number_Of_Bedroom"
      ]
    },
    {
      "cell_type": "code",
      "metadata": {
        "id": "n3dmkxFNxXP2"
      },
      "source": [
        "df2 = df2[~(df2.number_of_bedrooms == ' ')]\n",
        "# df2_left_indexes = list(df2.index.values)\n",
        "# left_size = len(df2_left_indexes)\n",
        "# print(left_size)\n",
        "# empty_list = []\n",
        "# for index in range(left_size):\n",
        "#   if(df2['number_of_bedrooms'][df2_left_indexes[index]] == ' '):\n",
        "#     empty_list.append(index)\n",
        "# print(empty_list)\n",
        "# print(len(empty_list))"
      ],
      "execution_count": null,
      "outputs": []
    },
    {
      "cell_type": "code",
      "metadata": {
        "id": "FQyN5ZeB-l_r"
      },
      "source": [
        "# indexes_to_keep = set(range(df2.shape[0])) - set(empty_list)\n",
        "# indexes_to_keep = list(indexes_to_keep)\n",
        "# df2 = df2.take(indexes_to_keep)"
      ],
      "execution_count": null,
      "outputs": []
    },
    {
      "cell_type": "code",
      "metadata": {
        "colab": {
          "base_uri": "https://localhost:8080/"
        },
        "id": "DbDDD8US86z3",
        "outputId": "3f032766-a80b-48ff-f6f0-3f43bd47dc1d"
      },
      "source": [
        "df2_left_indexes = list(df2.index.values)\n",
        "left_size = len(df2_left_indexes)\n",
        "for index in range (left_size):\n",
        "  df2['number_of_bedrooms'][df2_left_indexes[index]] = float(df2['number_of_bedrooms'][df2_left_indexes[index]])\n",
        "print(len(df2))\n",
        "print(df2['number_of_bedrooms'].unique())"
      ],
      "execution_count": null,
      "outputs": [
        {
          "output_type": "stream",
          "name": "stdout",
          "text": [
            "10454\n",
            "[1.0 2.0 3.0 5.0 4.0 7.0 6.0 8.0 18.0 13.0 29.0 14.0 15.0 9.0 11.0 27.0\n",
            " 52.0 22.0 10.0 17.0 21.0 86.0 12.0 28.0 53.0 20.0 41.0 50.0 30.0 34.0\n",
            " 16.0 23.0 25.0 73.0 40.0]\n"
          ]
        }
      ]
    },
    {
      "cell_type": "markdown",
      "metadata": {
        "id": "coB9VQ4fyrxF"
      },
      "source": [
        "**Preprocessing location(district + city)**"
      ]
    },
    {
      "cell_type": "code",
      "metadata": {
        "colab": {
          "base_uri": "https://localhost:8080/"
        },
        "id": "dqKqpLfKywWA",
        "outputId": "86e225b6-8278-4d72-b12d-465729143369"
      },
      "source": [
        "\n",
        "df2  = df2[~(df2.city == ' ')]\n",
        "df2_left_indexes = list(df2.index.values)\n",
        "left_size = len(df2_left_indexes)\n",
        "print(df2['city'].unique())\n",
        "for index in range (left_size):\n",
        "  if(df2['city'][df2_left_indexes[index]] == ' Hồ Chí Minh' or df2['city'][df2_left_indexes[index]]  == ' Hồ Chí Minh.' or df2['city'][df2_left_indexes[index]]  == ' Tp. HCM' or df2['city'][df2_left_indexes[index]]  == ' hồ chí minh'):\n",
        "    df2['city'][df2_left_indexes[index]]  = 'TP.Hồ Chí Minh'\n",
        "  elif(df2['city'][df2_left_indexes[index]] == ' Hà Nội.' or df2['city'][df2_left_indexes[index]] == ' Hà Nội' or df2['city'][df2_left_indexes[index]] == ' Hà Nội' or df2['city'][df2_left_indexes[index]] == ' hồ chí minh'):\n",
        "    df2['city'][df2_left_indexes[index]]  = 'Hà Nội'\n",
        "  elif(df2['city'][df2_left_indexes[index]] == ' Đà Nẵng' or df2['city'][df2_left_indexes[index]] == ' TP đà Nẵng'):\n",
        "    df2['city'][df2_left_indexes[index]] = 'Đà Nẵng'\n",
        "  elif(df2['city'][df2_left_indexes[index]] == ' Bình Dương' or df2['city'][df2_left_indexes[index]] == ' Bình Dương.' ):\n",
        "    df2['city'][df2_left_indexes[index]] = 'Bình Dương'\n",
        "  elif(df2['city'][df2_left_indexes[index]] == ' Bà Rịa Vũng Tàu' or df2['city'][df2_left_indexes[index]] == ' Bà Rịa Vũng Tàu.'):\n",
        "    df2['city'][df2_left_indexes[index]] = 'Bà Rịa Vũng Tàu'\n",
        "  elif(df2['city'][df2_left_indexes[index]] == ' Cần Thơ.'):\n",
        "    df2['city'][df2_left_indexes[index]] = 'Cần Thơ'\n"
      ],
      "execution_count": null,
      "outputs": [
        {
          "output_type": "stream",
          "name": "stdout",
          "text": [
            "[' Hồ Chí Minh' ' Hà Nội.' ' Hồ Chí Minh.' ' Đà Nẵng' ' Hà Nội'\n",
            " ' Bình Dương' ' Hà Nội' ' Bà Rịa Vũng Tàu' ' Hải Phòng' ' Bắc Ninh'\n",
            " ' Khánh Hòa' ' Đồng Nai' ' Cần Thơ' ' Hưng Yên' ' Kiên Giang' ' Long An'\n",
            " ' Tiền Giang' ' Quảng Ninh' ' Bình Định' ' Lâm Đồng' ' Cần Thơ.'\n",
            " ' TP đà Nẵng' ' Bình Dương.' ' Bình Thuận  ' ' Thừa Thiên Huế'\n",
            " ' Bà Rịa Vũng Tàu.' ' Quảng Nam' ' Tp. HCM' ' hồ chí minh']\n"
          ]
        }
      ]
    },
    {
      "cell_type": "code",
      "metadata": {
        "colab": {
          "base_uri": "https://localhost:8080/"
        },
        "id": "_-hSJouXlB14",
        "outputId": "8d816572-c024-4293-a712-35ff3c828272"
      },
      "source": [
        "print(df2['city'].unique())"
      ],
      "execution_count": null,
      "outputs": [
        {
          "output_type": "stream",
          "name": "stdout",
          "text": [
            "['TP.Hồ Chí Minh' 'Hà Nội' 'Đà Nẵng' 'Bình Dương' 'Bà Rịa Vũng Tàu'\n",
            " ' Hải Phòng' ' Bắc Ninh' ' Khánh Hòa' ' Đồng Nai' ' Cần Thơ' ' Hưng Yên'\n",
            " ' Kiên Giang' ' Long An' ' Tiền Giang' ' Quảng Ninh' ' Bình Định'\n",
            " ' Lâm Đồng' 'Cần Thơ' ' Bình Thuận  ' ' Thừa Thiên Huế' ' Quảng Nam']\n"
          ]
        }
      ]
    },
    {
      "cell_type": "code",
      "metadata": {
        "colab": {
          "base_uri": "https://localhost:8080/"
        },
        "id": "YjRe_IewlXZS",
        "outputId": "dd49310e-4fa9-4bb1-b23c-07980a393cd9"
      },
      "source": [
        "\n",
        "print(df2['district'].unique())"
      ],
      "execution_count": null,
      "outputs": [
        {
          "output_type": "stream",
          "name": "stdout",
          "text": [
            "[' Quận 1' ' Quận 9' ' Nam Từ Liêm' ' Thủ Đức' ' Quận 4' ' Quận 7'\n",
            " ' Thanh Khê' ' Bình Tân' ' Hà Đông' ' Thủ Dầu Một' ' Thanh Xuân'\n",
            " ' Quận 2' ' Bình Thạnh' ' Vũng Tàu' ' Cầu Giấy' ' Tây Hồ' ' Quận 10'\n",
            " ' Tân Bình' ' Quận 3' ' Hoài Đức' ' Gia Lâm' ' Phú Nhuận' ' Quận 5'\n",
            " ' Hai Bà Trưng' ' Gò Vấp' ' Tân Phú' ' Hồng Bàng' ' Bắc Từ Liêm'\n",
            " ' Quận 6' 'Tân Bình' ' Đống Đa' ' Bình Chánh' ' Hoàn Kiếm' ' Dĩ An'\n",
            " ' Nhà Bè' ' Long Biên' ' Quận 8' ' Hoàng Mai' ' Quận 12' ' Bắc Ninh'\n",
            " ' Nha Trang' ' Biên Hòa' ' Quận 11' ' Ba Đình' 'Ngô Quyền'\n",
            " ' Ngũ Hành Sơn' ' Sơn Trà' ' Ngô Quyền' ' Lê Chân' ' Cái Răng'\n",
            " ' Thuận An' ' Thanh Trì' ' Ninh Kiều' ' Văn Giang' ' Phú Quốc' ' Bến Lức'\n",
            " ' Nhơn Trạch' ' Hải Châu' 'Quận 7' ' Mỹ Tho' 'Quận 8' ' Hạ Long'\n",
            " ' Liên Chiểu' ' Hải An' ' Hóc Môn' ' Quy Nhơn' ' Từ Sơn' 'Quận 3'\n",
            " ' Bà Rịa' ' An Dương' 'Quận 10' ' Đà Lạt' ' Đức Hòa' ' Đông Anh'\n",
            " ' Bình Thủy' 'Quận 2' 'Long Biên' ' Đan Phượng' ' Bến Cát' 'Phước Ninh'\n",
            " ' Dương Kinh' 'Sơn Trà' 'Đường Chu Văn An quận Bình Thạnh' ' Phan Thiết'\n",
            " ' Rạch Giá' ' Tân Uyên' ' Huế' ' La Gi' 'Quận 1' ' Hội An' ' Chương Mỹ'\n",
            " ' Thủy Nguyên' 'Tân Phú' ' Q. 1' 'Lê Chân' ' thủ đức']\n"
          ]
        }
      ]
    },
    {
      "cell_type": "code",
      "metadata": {
        "id": "WFGlCRqkl1xO"
      },
      "source": [
        "\n",
        "df2_left_indexes = list(df2.index.values)\n",
        "left_size = len(df2_left_indexes)\n",
        "for index in range (left_size):\n",
        "  if(df2['district'][df2_left_indexes[index]] == ' Q. 1' or df2['district'][df2_left_indexes[index]] == 'Quận 1' ):\n",
        "    df2['district'][df2_left_indexes[index]]  = ' Quận 1'\n",
        "  elif(df2['district'][df2_left_indexes[index]] == ' Quận 7' ):\n",
        "    df2['district'][df2_left_indexes[index]]  = 'Quận 7'\n",
        "  elif(df2['district'][df2_left_indexes[index]] == ' thủ đức' ):\n",
        "    df2['district'][df2_left_indexes[index]]  = ' Thủ Đức'\n",
        "  elif(df2['district'][df2_left_indexes[index]] == ' Quận 2' ):\n",
        "    df2['district'][df2_left_indexes[index]]  = 'Quận 2'\n",
        "  elif(df2['district'][df2_left_indexes[index]] == 'Đường Chu Văn An quận Bình Thạnh' ):\n",
        "    df2['district'][df2_left_indexes[index]]  = ' Bình Thạnh'\n",
        "  elif(df2['district'][df2_left_indexes[index]] == 'Đường Chu Văn An quận Bình Thạnh' ):\n",
        "    df2['district'][df2_left_indexes[index]]  = ' Bình Thạnh'\n",
        "  elif(df2['district'][df2_left_indexes[index]] == ' Quận 10' ):\n",
        "    df2['district'][df2_left_indexes[index]]  = 'Quận 10'\n",
        "  elif(df2['district'][df2_left_indexes[index]] == ' Tân Bình' ):\n",
        "    df2['district'][df2_left_indexes[index]]  = 'Tân Bình'\n",
        "  elif(df2['district'][df2_left_indexes[index]] == ' Quận 3' ):\n",
        "    df2['district'][df2_left_indexes[index]]  = 'Quận 3'\n",
        "  elif(df2['district'][df2_left_indexes[index]] == ' Tân Phú' ):\n",
        "    df2['district'][df2_left_indexes[index]]  = 'Tân Phú'\n",
        "  elif(df2['district'][df2_left_indexes[index]] == ' Long Biên' ):\n",
        "    df2['district'][df2_left_indexes[index]]  = 'Long Biên'\n",
        "  elif(df2['district'][df2_left_indexes[index]] == ' Quận 8' ):\n",
        "    df2['district'][df2_left_indexes[index]]  = 'Quận 8'\n",
        "  elif(df2['district'][df2_left_indexes[index]] == ' Ngô Quyền' ):\n",
        "    df2['district'][df2_left_indexes[index]]  = 'Ngô Quyền'\n",
        "  elif(df2['district'][df2_left_indexes[index]] == ' Sơn Trà' ):\n",
        "    df2['district'][df2_left_indexes[index]]  = 'Sơn Trà'\n",
        "  elif(df2['district'][df2_left_indexes[index]] == ' Lê Chân' ):\n",
        "    df2['district'][df2_left_indexes[index]]  = 'Lê Chân'\n"
      ],
      "execution_count": null,
      "outputs": []
    },
    {
      "cell_type": "code",
      "metadata": {
        "colab": {
          "base_uri": "https://localhost:8080/"
        },
        "id": "y6ArsCfzQsYr",
        "outputId": "3ad245b7-b8ee-4909-ae1e-485a26ef8f2a"
      },
      "source": [
        "\n",
        "print(df2['district'].unique())"
      ],
      "execution_count": null,
      "outputs": [
        {
          "output_type": "stream",
          "name": "stdout",
          "text": [
            "[' Quận 1' ' Quận 9' ' Nam Từ Liêm' ' Thủ Đức' ' Quận 4' 'Quận 7'\n",
            " ' Thanh Khê' ' Bình Tân' ' Hà Đông' ' Thủ Dầu Một' ' Thanh Xuân' 'Quận 2'\n",
            " ' Bình Thạnh' ' Vũng Tàu' ' Cầu Giấy' ' Tây Hồ' 'Quận 10' 'Tân Bình'\n",
            " 'Quận 3' ' Hoài Đức' ' Gia Lâm' ' Phú Nhuận' ' Quận 5' ' Hai Bà Trưng'\n",
            " ' Gò Vấp' 'Tân Phú' ' Hồng Bàng' ' Bắc Từ Liêm' ' Quận 6' ' Đống Đa'\n",
            " ' Bình Chánh' ' Hoàn Kiếm' ' Dĩ An' ' Nhà Bè' 'Long Biên' 'Quận 8'\n",
            " ' Hoàng Mai' ' Quận 12' ' Bắc Ninh' ' Nha Trang' ' Biên Hòa' ' Quận 11'\n",
            " ' Ba Đình' 'Ngô Quyền' ' Ngũ Hành Sơn' 'Sơn Trà' 'Lê Chân' ' Cái Răng'\n",
            " ' Thuận An' ' Thanh Trì' ' Ninh Kiều' ' Văn Giang' ' Phú Quốc' ' Bến Lức'\n",
            " ' Nhơn Trạch' ' Hải Châu' ' Mỹ Tho' ' Hạ Long' ' Liên Chiểu' ' Hải An'\n",
            " ' Hóc Môn' ' Quy Nhơn' ' Từ Sơn' ' Bà Rịa' ' An Dương' ' Đà Lạt'\n",
            " ' Đức Hòa' ' Đông Anh' ' Bình Thủy' ' Đan Phượng' ' Bến Cát' 'Phước Ninh'\n",
            " ' Dương Kinh' ' Phan Thiết' ' Rạch Giá' ' Tân Uyên' ' Huế' ' La Gi'\n",
            " ' Hội An' ' Chương Mỹ' ' Thủy Nguyên']\n"
          ]
        }
      ]
    },
    {
      "cell_type": "code",
      "metadata": {
        "colab": {
          "base_uri": "https://localhost:8080/"
        },
        "id": "OvRYi4xw48b6",
        "outputId": "4f95239b-f66e-4ad5-8783-a94402793b62"
      },
      "source": [
        "df2[['city','district']]\n",
        "df2[\"location\"] = df2[\"district\"] + \" \" + df2[\"city\"]\n",
        "print(df2[\"location\"])"
      ],
      "execution_count": null,
      "outputs": [
        {
          "output_type": "stream",
          "name": "stdout",
          "text": [
            "361        Quận 1 TP.Hồ Chí Minh\n",
            "374        Quận 9 TP.Hồ Chí Minh\n",
            "376           Nam Từ Liêm Hà Nội\n",
            "382        Quận 9 TP.Hồ Chí Minh\n",
            "385       Thủ Đức TP.Hồ Chí Minh\n",
            "                  ...           \n",
            "19132      Quận 2 TP.Hồ Chí Minh\n",
            "19133              Tây Hồ Hà Nội\n",
            "19134      Quận 4 TP.Hồ Chí Minh\n",
            "19135      Quận 9 TP.Hồ Chí Minh\n",
            "19136      Quận 4 TP.Hồ Chí Minh\n",
            "Name: location, Length: 10454, dtype: object\n"
          ]
        }
      ]
    },
    {
      "cell_type": "markdown",
      "metadata": {
        "id": "exSFVzBUJEve"
      },
      "source": [
        "**Remove those locations that have small replication**"
      ]
    },
    {
      "cell_type": "code",
      "metadata": {
        "colab": {
          "base_uri": "https://localhost:8080/"
        },
        "id": "D-0y0_RIB-CI",
        "outputId": "279016e8-dfd5-4fae-8c31-feb2f50fc825"
      },
      "source": [
        "len(df2['location'].unique())"
      ],
      "execution_count": null,
      "outputs": [
        {
          "output_type": "execute_result",
          "data": {
            "text/plain": [
              "82"
            ]
          },
          "metadata": {},
          "execution_count": 23
        }
      ]
    },
    {
      "cell_type": "code",
      "metadata": {
        "colab": {
          "base_uri": "https://localhost:8080/"
        },
        "id": "dVa7k4pLCrCX",
        "outputId": "b97c7df9-22ef-4d8c-b067-72748ff0703c"
      },
      "source": [
        "df2.location = df2.location.apply(lambda x: x.strip())\n",
        "location_stats = df2.groupby('location')['location'].agg('count').sort_values(ascending=False)\n",
        "location_stats"
      ],
      "execution_count": null,
      "outputs": [
        {
          "output_type": "execute_result",
          "data": {
            "text/plain": [
              "location\n",
              "Quận 2 TP.Hồ Chí Minh        980\n",
              "Bình Thạnh TP.Hồ Chí Minh    808\n",
              "Quận 7 TP.Hồ Chí Minh        734\n",
              "Nam Từ Liêm Hà Nội           716\n",
              "Cầu Giấy Hà Nội              547\n",
              "                            ... \n",
              "Nhơn Trạch  Đồng Nai           1\n",
              "Mỹ Tho  Tiền Giang             1\n",
              "La Gi  Bình Thuận              1\n",
              "Hội An  Quảng Nam              1\n",
              "Bến Lức  Long An               1\n",
              "Name: location, Length: 82, dtype: int64"
            ]
          },
          "metadata": {},
          "execution_count": 24
        }
      ]
    },
    {
      "cell_type": "code",
      "metadata": {
        "colab": {
          "base_uri": "https://localhost:8080/"
        },
        "id": "5NeafTRxJ2aw",
        "outputId": "f1054683-8541-4e6f-aa66-f2923f210f00"
      },
      "source": [
        "len(location_stats[location_stats <= 10])"
      ],
      "execution_count": null,
      "outputs": [
        {
          "output_type": "execute_result",
          "data": {
            "text/plain": [
              "33"
            ]
          },
          "metadata": {},
          "execution_count": 25
        }
      ]
    },
    {
      "cell_type": "code",
      "metadata": {
        "colab": {
          "base_uri": "https://localhost:8080/"
        },
        "id": "49rIFa7NKJnX",
        "outputId": "469d9853-333a-4a09-999f-620112b72039"
      },
      "source": [
        "#Locations that have small number of datapoints\n",
        "location_stats_less_than_10 = location_stats[location_stats <= 10]\n",
        "location_stats_less_than_10"
      ],
      "execution_count": null,
      "outputs": [
        {
          "output_type": "execute_result",
          "data": {
            "text/plain": [
              "location\n",
              "Ninh Kiều  Cần Thơ        9\n",
              "Bắc Ninh  Bắc Ninh        9\n",
              "Hóc Môn TP.Hồ Chí Minh    9\n",
              "Ngũ Hành Sơn Đà Nẵng      8\n",
              "Hải An  Hải Phòng         7\n",
              "Cái Răng  Cần Thơ         7\n",
              "Đà Lạt  Lâm Đồng          5\n",
              "Liên Chiểu Đà Nẵng        5\n",
              "Đông Anh Hà Nội           4\n",
              "An Dương  Hải Phòng       3\n",
              "Hạ Long  Quảng Ninh       3\n",
              "Đức Hòa  Long An          2\n",
              "Phan Thiết  Bình Thuận    2\n",
              "Quy Nhơn  Bình Định       2\n",
              "Bến Cát Bình Dương        2\n",
              "Phước Ninh Đà Nẵng        1\n",
              "Đan Phượng Hà Nội         1\n",
              "Từ Sơn  Bắc Ninh          1\n",
              "Bà Rịa Bà Rịa Vũng Tàu    1\n",
              "Tân Uyên Bình Dương       1\n",
              "Thủy Nguyên  Hải Phòng    1\n",
              "Bình Thủy  Cần Thơ        1\n",
              "Rạch Giá  Kiên Giang      1\n",
              "Huế  Thừa Thiên Huế       1\n",
              "Chương Mỹ Hà Nội          1\n",
              "Phú Quốc  Kiên Giang      1\n",
              "Ninh Kiều Cần Thơ         1\n",
              "Dương Kinh  Hải Phòng     1\n",
              "Nhơn Trạch  Đồng Nai      1\n",
              "Mỹ Tho  Tiền Giang        1\n",
              "La Gi  Bình Thuận         1\n",
              "Hội An  Quảng Nam         1\n",
              "Bến Lức  Long An          1\n",
              "Name: location, dtype: int64"
            ]
          },
          "metadata": {},
          "execution_count": 26
        }
      ]
    },
    {
      "cell_type": "code",
      "metadata": {
        "colab": {
          "base_uri": "https://localhost:8080/",
          "height": 203
        },
        "id": "UBngiknTKiRW",
        "outputId": "d5c739bc-926b-49fa-ea39-00b8f8c70714"
      },
      "source": [
        "#Convert those <= 10 locations to 'other'\n",
        "df2.location = df2.location.apply(lambda x: 'other' if x in location_stats_less_than_10 else x)\n",
        "len(df2.location.unique())\n",
        "df2.head(5)\n"
      ],
      "execution_count": null,
      "outputs": [
        {
          "output_type": "execute_result",
          "data": {
            "text/html": [
              "<div>\n",
              "<style scoped>\n",
              "    .dataframe tbody tr th:only-of-type {\n",
              "        vertical-align: middle;\n",
              "    }\n",
              "\n",
              "    .dataframe tbody tr th {\n",
              "        vertical-align: top;\n",
              "    }\n",
              "\n",
              "    .dataframe thead th {\n",
              "        text-align: right;\n",
              "    }\n",
              "</style>\n",
              "<table border=\"1\" class=\"dataframe\">\n",
              "  <thead>\n",
              "    <tr style=\"text-align: right;\">\n",
              "      <th></th>\n",
              "      <th>total_site_area</th>\n",
              "      <th>property_name</th>\n",
              "      <th>number_of_bedrooms</th>\n",
              "      <th>city</th>\n",
              "      <th>district</th>\n",
              "      <th>price_unit</th>\n",
              "      <th>location</th>\n",
              "    </tr>\n",
              "  </thead>\n",
              "  <tbody>\n",
              "    <tr>\n",
              "      <th>361</th>\n",
              "      <td>55</td>\n",
              "      <td>3</td>\n",
              "      <td>1</td>\n",
              "      <td>TP.Hồ Chí Minh</td>\n",
              "      <td>Quận 1</td>\n",
              "      <td>12</td>\n",
              "      <td>Quận 1 TP.Hồ Chí Minh</td>\n",
              "    </tr>\n",
              "    <tr>\n",
              "      <th>374</th>\n",
              "      <td>55</td>\n",
              "      <td>3</td>\n",
              "      <td>1</td>\n",
              "      <td>TP.Hồ Chí Minh</td>\n",
              "      <td>Quận 9</td>\n",
              "      <td>6</td>\n",
              "      <td>Quận 9 TP.Hồ Chí Minh</td>\n",
              "    </tr>\n",
              "    <tr>\n",
              "      <th>376</th>\n",
              "      <td>88</td>\n",
              "      <td>3</td>\n",
              "      <td>2</td>\n",
              "      <td>Hà Nội</td>\n",
              "      <td>Nam Từ Liêm</td>\n",
              "      <td>10</td>\n",
              "      <td>Nam Từ Liêm Hà Nội</td>\n",
              "    </tr>\n",
              "    <tr>\n",
              "      <th>382</th>\n",
              "      <td>72</td>\n",
              "      <td>3</td>\n",
              "      <td>2</td>\n",
              "      <td>TP.Hồ Chí Minh</td>\n",
              "      <td>Quận 9</td>\n",
              "      <td>7</td>\n",
              "      <td>Quận 9 TP.Hồ Chí Minh</td>\n",
              "    </tr>\n",
              "    <tr>\n",
              "      <th>385</th>\n",
              "      <td>78</td>\n",
              "      <td>3</td>\n",
              "      <td>3</td>\n",
              "      <td>TP.Hồ Chí Minh</td>\n",
              "      <td>Thủ Đức</td>\n",
              "      <td>6</td>\n",
              "      <td>Thủ Đức TP.Hồ Chí Minh</td>\n",
              "    </tr>\n",
              "  </tbody>\n",
              "</table>\n",
              "</div>"
            ],
            "text/plain": [
              "    total_site_area property_name  ... price_unit                location\n",
              "361              55             3  ...         12   Quận 1 TP.Hồ Chí Minh\n",
              "374              55             3  ...          6   Quận 9 TP.Hồ Chí Minh\n",
              "376              88             3  ...         10      Nam Từ Liêm Hà Nội\n",
              "382              72             3  ...          7   Quận 9 TP.Hồ Chí Minh\n",
              "385              78             3  ...          6  Thủ Đức TP.Hồ Chí Minh\n",
              "\n",
              "[5 rows x 7 columns]"
            ]
          },
          "metadata": {},
          "execution_count": 27
        }
      ]
    },
    {
      "cell_type": "code",
      "metadata": {
        "colab": {
          "base_uri": "https://localhost:8080/"
        },
        "id": "5tDi3HnGLeue",
        "outputId": "bbbd579f-d873-42eb-9bd6-98fcf6be5e61"
      },
      "source": [
        "bedroom_stats = df2.groupby('number_of_bedrooms')['number_of_bedrooms'].agg('count').sort_values(ascending=False)\n",
        "bedroom_stats"
      ],
      "execution_count": null,
      "outputs": [
        {
          "output_type": "execute_result",
          "data": {
            "text/plain": [
              "number_of_bedrooms\n",
              "2.0     5499\n",
              "3.0     2174\n",
              "1.0     1349\n",
              "4.0      689\n",
              "5.0      310\n",
              "6.0      229\n",
              "7.0       59\n",
              "8.0       51\n",
              "10.0      19\n",
              "9.0       16\n",
              "15.0      10\n",
              "11.0       5\n",
              "12.0       5\n",
              "14.0       4\n",
              "18.0       4\n",
              "40.0       3\n",
              "30.0       3\n",
              "20.0       3\n",
              "21.0       2\n",
              "13.0       2\n",
              "27.0       2\n",
              "86.0       2\n",
              "17.0       2\n",
              "23.0       1\n",
              "25.0       1\n",
              "22.0       1\n",
              "16.0       1\n",
              "29.0       1\n",
              "34.0       1\n",
              "73.0       1\n",
              "41.0       1\n",
              "50.0       1\n",
              "52.0       1\n",
              "53.0       1\n",
              "28.0       1\n",
              "Name: number_of_bedrooms, dtype: int64"
            ]
          },
          "metadata": {},
          "execution_count": 28
        }
      ]
    },
    {
      "cell_type": "code",
      "metadata": {
        "colab": {
          "base_uri": "https://localhost:8080/"
        },
        "id": "eDKJVfJaSGrG",
        "outputId": "4a03545b-a7f6-4253-9c36-ba52bf03daa3"
      },
      "source": [
        "#Remove outliers on number_of_bedrooms\n",
        "df3 = df2[~(df2.number_of_bedrooms > 8)]\n",
        "df3.shape"
      ],
      "execution_count": null,
      "outputs": [
        {
          "output_type": "execute_result",
          "data": {
            "text/plain": [
              "(10360, 7)"
            ]
          },
          "metadata": {},
          "execution_count": 29
        }
      ]
    },
    {
      "cell_type": "code",
      "metadata": {
        "colab": {
          "base_uri": "https://localhost:8080/"
        },
        "id": "iyY4uzG8Udw-",
        "outputId": "72c4da1c-5bd7-4418-c133-43c78f26e8dc"
      },
      "source": [
        "df3.price_unit.max()"
      ],
      "execution_count": null,
      "outputs": [
        {
          "output_type": "execute_result",
          "data": {
            "text/plain": [
              "1800.0"
            ]
          },
          "metadata": {},
          "execution_count": 30
        }
      ]
    },
    {
      "cell_type": "code",
      "metadata": {
        "colab": {
          "base_uri": "https://localhost:8080/"
        },
        "id": "blp9jlu-b291",
        "outputId": "e887e60d-2b85-41e3-b1ac-d489131a7517"
      },
      "source": [
        "#Remove outliers based on distribution\n",
        "def remove_punit_outliers(df):\n",
        "    df_out = pd.DataFrame()\n",
        "    for key, subdf in df.groupby('location'):\n",
        "        m = np.mean(subdf.price_unit)\n",
        "        st = np.std(subdf.price_unit)\n",
        "        reduced_df = subdf[(subdf.price_unit > (m-st)) & (subdf.price_unit <= (m+st))]\n",
        "        df_out = pd.concat([df_out, reduced_df], ignore_index = True)\n",
        "    return df_out\n",
        "\n",
        "df4 = remove_punit_outliers(df3)\n",
        "len(df4)"
      ],
      "execution_count": null,
      "outputs": [
        {
          "output_type": "execute_result",
          "data": {
            "text/plain": [
              "9461"
            ]
          },
          "metadata": {},
          "execution_count": 31
        }
      ]
    },
    {
      "cell_type": "markdown",
      "metadata": {
        "id": "kfrvuB4whUvX"
      },
      "source": [
        "**One hot encoding**\n"
      ]
    },
    {
      "cell_type": "code",
      "metadata": {
        "colab": {
          "base_uri": "https://localhost:8080/",
          "height": 246
        },
        "id": "H-cuW9jtf05E",
        "outputId": "1f2a457d-1649-4b50-f0ee-57364fc73030"
      },
      "source": [
        "dummies = pd.get_dummies(df4.location)\n",
        "dummies.head(3)"
      ],
      "execution_count": null,
      "outputs": [
        {
          "output_type": "execute_result",
          "data": {
            "text/html": [
              "<div>\n",
              "<style scoped>\n",
              "    .dataframe tbody tr th:only-of-type {\n",
              "        vertical-align: middle;\n",
              "    }\n",
              "\n",
              "    .dataframe tbody tr th {\n",
              "        vertical-align: top;\n",
              "    }\n",
              "\n",
              "    .dataframe thead th {\n",
              "        text-align: right;\n",
              "    }\n",
              "</style>\n",
              "<table border=\"1\" class=\"dataframe\">\n",
              "  <thead>\n",
              "    <tr style=\"text-align: right;\">\n",
              "      <th></th>\n",
              "      <th>Ba Đình Hà Nội</th>\n",
              "      <th>Biên Hòa  Đồng Nai</th>\n",
              "      <th>Bình Chánh TP.Hồ Chí Minh</th>\n",
              "      <th>Bình Thạnh TP.Hồ Chí Minh</th>\n",
              "      <th>Bình Tân TP.Hồ Chí Minh</th>\n",
              "      <th>Bắc Từ Liêm Hà Nội</th>\n",
              "      <th>Cầu Giấy Hà Nội</th>\n",
              "      <th>Dĩ An Bình Dương</th>\n",
              "      <th>Gia Lâm Hà Nội</th>\n",
              "      <th>Gò Vấp TP.Hồ Chí Minh</th>\n",
              "      <th>Hai Bà Trưng Hà Nội</th>\n",
              "      <th>Hoài Đức Hà Nội</th>\n",
              "      <th>Hoàn Kiếm Hà Nội</th>\n",
              "      <th>Hoàng Mai Hà Nội</th>\n",
              "      <th>Hà Đông Hà Nội</th>\n",
              "      <th>Hải Châu Đà Nẵng</th>\n",
              "      <th>Hồng Bàng  Hải Phòng</th>\n",
              "      <th>Long Biên Hà Nội</th>\n",
              "      <th>Lê Chân  Hải Phòng</th>\n",
              "      <th>Nam Từ Liêm Hà Nội</th>\n",
              "      <th>Ngô Quyền  Hải Phòng</th>\n",
              "      <th>Nha Trang  Khánh Hòa</th>\n",
              "      <th>Nhà Bè TP.Hồ Chí Minh</th>\n",
              "      <th>Phú Nhuận TP.Hồ Chí Minh</th>\n",
              "      <th>Quận 1 TP.Hồ Chí Minh</th>\n",
              "      <th>Quận 10 TP.Hồ Chí Minh</th>\n",
              "      <th>Quận 11 TP.Hồ Chí Minh</th>\n",
              "      <th>Quận 12 TP.Hồ Chí Minh</th>\n",
              "      <th>Quận 2 TP.Hồ Chí Minh</th>\n",
              "      <th>Quận 3 TP.Hồ Chí Minh</th>\n",
              "      <th>Quận 4 TP.Hồ Chí Minh</th>\n",
              "      <th>Quận 5 TP.Hồ Chí Minh</th>\n",
              "      <th>Quận 6 TP.Hồ Chí Minh</th>\n",
              "      <th>Quận 7 TP.Hồ Chí Minh</th>\n",
              "      <th>Quận 8 TP.Hồ Chí Minh</th>\n",
              "      <th>Quận 9 TP.Hồ Chí Minh</th>\n",
              "      <th>Sơn Trà Đà Nẵng</th>\n",
              "      <th>Thanh Khê Đà Nẵng</th>\n",
              "      <th>Thanh Trì Hà Nội</th>\n",
              "      <th>Thanh Xuân Hà Nội</th>\n",
              "      <th>Thuận An Bình Dương</th>\n",
              "      <th>Thủ Dầu Một Bình Dương</th>\n",
              "      <th>Thủ Đức TP.Hồ Chí Minh</th>\n",
              "      <th>Tân Bình TP.Hồ Chí Minh</th>\n",
              "      <th>Tân Phú TP.Hồ Chí Minh</th>\n",
              "      <th>Tây Hồ Hà Nội</th>\n",
              "      <th>Văn Giang  Hưng Yên</th>\n",
              "      <th>Vũng Tàu Bà Rịa Vũng Tàu</th>\n",
              "      <th>other</th>\n",
              "      <th>Đống Đa Hà Nội</th>\n",
              "    </tr>\n",
              "  </thead>\n",
              "  <tbody>\n",
              "    <tr>\n",
              "      <th>0</th>\n",
              "      <td>1</td>\n",
              "      <td>0</td>\n",
              "      <td>0</td>\n",
              "      <td>0</td>\n",
              "      <td>0</td>\n",
              "      <td>0</td>\n",
              "      <td>0</td>\n",
              "      <td>0</td>\n",
              "      <td>0</td>\n",
              "      <td>0</td>\n",
              "      <td>0</td>\n",
              "      <td>0</td>\n",
              "      <td>0</td>\n",
              "      <td>0</td>\n",
              "      <td>0</td>\n",
              "      <td>0</td>\n",
              "      <td>0</td>\n",
              "      <td>0</td>\n",
              "      <td>0</td>\n",
              "      <td>0</td>\n",
              "      <td>0</td>\n",
              "      <td>0</td>\n",
              "      <td>0</td>\n",
              "      <td>0</td>\n",
              "      <td>0</td>\n",
              "      <td>0</td>\n",
              "      <td>0</td>\n",
              "      <td>0</td>\n",
              "      <td>0</td>\n",
              "      <td>0</td>\n",
              "      <td>0</td>\n",
              "      <td>0</td>\n",
              "      <td>0</td>\n",
              "      <td>0</td>\n",
              "      <td>0</td>\n",
              "      <td>0</td>\n",
              "      <td>0</td>\n",
              "      <td>0</td>\n",
              "      <td>0</td>\n",
              "      <td>0</td>\n",
              "      <td>0</td>\n",
              "      <td>0</td>\n",
              "      <td>0</td>\n",
              "      <td>0</td>\n",
              "      <td>0</td>\n",
              "      <td>0</td>\n",
              "      <td>0</td>\n",
              "      <td>0</td>\n",
              "      <td>0</td>\n",
              "      <td>0</td>\n",
              "    </tr>\n",
              "    <tr>\n",
              "      <th>1</th>\n",
              "      <td>1</td>\n",
              "      <td>0</td>\n",
              "      <td>0</td>\n",
              "      <td>0</td>\n",
              "      <td>0</td>\n",
              "      <td>0</td>\n",
              "      <td>0</td>\n",
              "      <td>0</td>\n",
              "      <td>0</td>\n",
              "      <td>0</td>\n",
              "      <td>0</td>\n",
              "      <td>0</td>\n",
              "      <td>0</td>\n",
              "      <td>0</td>\n",
              "      <td>0</td>\n",
              "      <td>0</td>\n",
              "      <td>0</td>\n",
              "      <td>0</td>\n",
              "      <td>0</td>\n",
              "      <td>0</td>\n",
              "      <td>0</td>\n",
              "      <td>0</td>\n",
              "      <td>0</td>\n",
              "      <td>0</td>\n",
              "      <td>0</td>\n",
              "      <td>0</td>\n",
              "      <td>0</td>\n",
              "      <td>0</td>\n",
              "      <td>0</td>\n",
              "      <td>0</td>\n",
              "      <td>0</td>\n",
              "      <td>0</td>\n",
              "      <td>0</td>\n",
              "      <td>0</td>\n",
              "      <td>0</td>\n",
              "      <td>0</td>\n",
              "      <td>0</td>\n",
              "      <td>0</td>\n",
              "      <td>0</td>\n",
              "      <td>0</td>\n",
              "      <td>0</td>\n",
              "      <td>0</td>\n",
              "      <td>0</td>\n",
              "      <td>0</td>\n",
              "      <td>0</td>\n",
              "      <td>0</td>\n",
              "      <td>0</td>\n",
              "      <td>0</td>\n",
              "      <td>0</td>\n",
              "      <td>0</td>\n",
              "    </tr>\n",
              "    <tr>\n",
              "      <th>2</th>\n",
              "      <td>1</td>\n",
              "      <td>0</td>\n",
              "      <td>0</td>\n",
              "      <td>0</td>\n",
              "      <td>0</td>\n",
              "      <td>0</td>\n",
              "      <td>0</td>\n",
              "      <td>0</td>\n",
              "      <td>0</td>\n",
              "      <td>0</td>\n",
              "      <td>0</td>\n",
              "      <td>0</td>\n",
              "      <td>0</td>\n",
              "      <td>0</td>\n",
              "      <td>0</td>\n",
              "      <td>0</td>\n",
              "      <td>0</td>\n",
              "      <td>0</td>\n",
              "      <td>0</td>\n",
              "      <td>0</td>\n",
              "      <td>0</td>\n",
              "      <td>0</td>\n",
              "      <td>0</td>\n",
              "      <td>0</td>\n",
              "      <td>0</td>\n",
              "      <td>0</td>\n",
              "      <td>0</td>\n",
              "      <td>0</td>\n",
              "      <td>0</td>\n",
              "      <td>0</td>\n",
              "      <td>0</td>\n",
              "      <td>0</td>\n",
              "      <td>0</td>\n",
              "      <td>0</td>\n",
              "      <td>0</td>\n",
              "      <td>0</td>\n",
              "      <td>0</td>\n",
              "      <td>0</td>\n",
              "      <td>0</td>\n",
              "      <td>0</td>\n",
              "      <td>0</td>\n",
              "      <td>0</td>\n",
              "      <td>0</td>\n",
              "      <td>0</td>\n",
              "      <td>0</td>\n",
              "      <td>0</td>\n",
              "      <td>0</td>\n",
              "      <td>0</td>\n",
              "      <td>0</td>\n",
              "      <td>0</td>\n",
              "    </tr>\n",
              "  </tbody>\n",
              "</table>\n",
              "</div>"
            ],
            "text/plain": [
              "   Ba Đình Hà Nội  Biên Hòa  Đồng Nai  ...  other  Đống Đa Hà Nội\n",
              "0               1                   0  ...      0               0\n",
              "1               1                   0  ...      0               0\n",
              "2               1                   0  ...      0               0\n",
              "\n",
              "[3 rows x 50 columns]"
            ]
          },
          "metadata": {},
          "execution_count": 32
        }
      ]
    },
    {
      "cell_type": "code",
      "metadata": {
        "colab": {
          "base_uri": "https://localhost:8080/",
          "height": 296
        },
        "id": "WqvhStr5gaE7",
        "outputId": "5181745a-f188-4a11-f6b5-58cf27f0fc77"
      },
      "source": [
        "df5 = pd.concat([df4, dummies.drop('other',axis='columns')],axis='columns')\n",
        "df5.head(3)"
      ],
      "execution_count": null,
      "outputs": [
        {
          "output_type": "execute_result",
          "data": {
            "text/html": [
              "<div>\n",
              "<style scoped>\n",
              "    .dataframe tbody tr th:only-of-type {\n",
              "        vertical-align: middle;\n",
              "    }\n",
              "\n",
              "    .dataframe tbody tr th {\n",
              "        vertical-align: top;\n",
              "    }\n",
              "\n",
              "    .dataframe thead th {\n",
              "        text-align: right;\n",
              "    }\n",
              "</style>\n",
              "<table border=\"1\" class=\"dataframe\">\n",
              "  <thead>\n",
              "    <tr style=\"text-align: right;\">\n",
              "      <th></th>\n",
              "      <th>total_site_area</th>\n",
              "      <th>property_name</th>\n",
              "      <th>number_of_bedrooms</th>\n",
              "      <th>city</th>\n",
              "      <th>district</th>\n",
              "      <th>price_unit</th>\n",
              "      <th>location</th>\n",
              "      <th>Ba Đình Hà Nội</th>\n",
              "      <th>Biên Hòa  Đồng Nai</th>\n",
              "      <th>Bình Chánh TP.Hồ Chí Minh</th>\n",
              "      <th>Bình Thạnh TP.Hồ Chí Minh</th>\n",
              "      <th>Bình Tân TP.Hồ Chí Minh</th>\n",
              "      <th>Bắc Từ Liêm Hà Nội</th>\n",
              "      <th>Cầu Giấy Hà Nội</th>\n",
              "      <th>Dĩ An Bình Dương</th>\n",
              "      <th>Gia Lâm Hà Nội</th>\n",
              "      <th>Gò Vấp TP.Hồ Chí Minh</th>\n",
              "      <th>Hai Bà Trưng Hà Nội</th>\n",
              "      <th>Hoài Đức Hà Nội</th>\n",
              "      <th>Hoàn Kiếm Hà Nội</th>\n",
              "      <th>Hoàng Mai Hà Nội</th>\n",
              "      <th>Hà Đông Hà Nội</th>\n",
              "      <th>Hải Châu Đà Nẵng</th>\n",
              "      <th>Hồng Bàng  Hải Phòng</th>\n",
              "      <th>Long Biên Hà Nội</th>\n",
              "      <th>Lê Chân  Hải Phòng</th>\n",
              "      <th>Nam Từ Liêm Hà Nội</th>\n",
              "      <th>Ngô Quyền  Hải Phòng</th>\n",
              "      <th>Nha Trang  Khánh Hòa</th>\n",
              "      <th>Nhà Bè TP.Hồ Chí Minh</th>\n",
              "      <th>Phú Nhuận TP.Hồ Chí Minh</th>\n",
              "      <th>Quận 1 TP.Hồ Chí Minh</th>\n",
              "      <th>Quận 10 TP.Hồ Chí Minh</th>\n",
              "      <th>Quận 11 TP.Hồ Chí Minh</th>\n",
              "      <th>Quận 12 TP.Hồ Chí Minh</th>\n",
              "      <th>Quận 2 TP.Hồ Chí Minh</th>\n",
              "      <th>Quận 3 TP.Hồ Chí Minh</th>\n",
              "      <th>Quận 4 TP.Hồ Chí Minh</th>\n",
              "      <th>Quận 5 TP.Hồ Chí Minh</th>\n",
              "      <th>Quận 6 TP.Hồ Chí Minh</th>\n",
              "      <th>Quận 7 TP.Hồ Chí Minh</th>\n",
              "      <th>Quận 8 TP.Hồ Chí Minh</th>\n",
              "      <th>Quận 9 TP.Hồ Chí Minh</th>\n",
              "      <th>Sơn Trà Đà Nẵng</th>\n",
              "      <th>Thanh Khê Đà Nẵng</th>\n",
              "      <th>Thanh Trì Hà Nội</th>\n",
              "      <th>Thanh Xuân Hà Nội</th>\n",
              "      <th>Thuận An Bình Dương</th>\n",
              "      <th>Thủ Dầu Một Bình Dương</th>\n",
              "      <th>Thủ Đức TP.Hồ Chí Minh</th>\n",
              "      <th>Tân Bình TP.Hồ Chí Minh</th>\n",
              "      <th>Tân Phú TP.Hồ Chí Minh</th>\n",
              "      <th>Tây Hồ Hà Nội</th>\n",
              "      <th>Văn Giang  Hưng Yên</th>\n",
              "      <th>Vũng Tàu Bà Rịa Vũng Tàu</th>\n",
              "      <th>Đống Đa Hà Nội</th>\n",
              "    </tr>\n",
              "  </thead>\n",
              "  <tbody>\n",
              "    <tr>\n",
              "      <th>0</th>\n",
              "      <td>78.42</td>\n",
              "      <td>3</td>\n",
              "      <td>2</td>\n",
              "      <td>Hà Nội</td>\n",
              "      <td>Ba Đình</td>\n",
              "      <td>22</td>\n",
              "      <td>Ba Đình Hà Nội</td>\n",
              "      <td>1</td>\n",
              "      <td>0</td>\n",
              "      <td>0</td>\n",
              "      <td>0</td>\n",
              "      <td>0</td>\n",
              "      <td>0</td>\n",
              "      <td>0</td>\n",
              "      <td>0</td>\n",
              "      <td>0</td>\n",
              "      <td>0</td>\n",
              "      <td>0</td>\n",
              "      <td>0</td>\n",
              "      <td>0</td>\n",
              "      <td>0</td>\n",
              "      <td>0</td>\n",
              "      <td>0</td>\n",
              "      <td>0</td>\n",
              "      <td>0</td>\n",
              "      <td>0</td>\n",
              "      <td>0</td>\n",
              "      <td>0</td>\n",
              "      <td>0</td>\n",
              "      <td>0</td>\n",
              "      <td>0</td>\n",
              "      <td>0</td>\n",
              "      <td>0</td>\n",
              "      <td>0</td>\n",
              "      <td>0</td>\n",
              "      <td>0</td>\n",
              "      <td>0</td>\n",
              "      <td>0</td>\n",
              "      <td>0</td>\n",
              "      <td>0</td>\n",
              "      <td>0</td>\n",
              "      <td>0</td>\n",
              "      <td>0</td>\n",
              "      <td>0</td>\n",
              "      <td>0</td>\n",
              "      <td>0</td>\n",
              "      <td>0</td>\n",
              "      <td>0</td>\n",
              "      <td>0</td>\n",
              "      <td>0</td>\n",
              "      <td>0</td>\n",
              "      <td>0</td>\n",
              "      <td>0</td>\n",
              "      <td>0</td>\n",
              "      <td>0</td>\n",
              "      <td>0</td>\n",
              "    </tr>\n",
              "    <tr>\n",
              "      <th>1</th>\n",
              "      <td>57</td>\n",
              "      <td>3</td>\n",
              "      <td>1</td>\n",
              "      <td>Hà Nội</td>\n",
              "      <td>Ba Đình</td>\n",
              "      <td>17</td>\n",
              "      <td>Ba Đình Hà Nội</td>\n",
              "      <td>1</td>\n",
              "      <td>0</td>\n",
              "      <td>0</td>\n",
              "      <td>0</td>\n",
              "      <td>0</td>\n",
              "      <td>0</td>\n",
              "      <td>0</td>\n",
              "      <td>0</td>\n",
              "      <td>0</td>\n",
              "      <td>0</td>\n",
              "      <td>0</td>\n",
              "      <td>0</td>\n",
              "      <td>0</td>\n",
              "      <td>0</td>\n",
              "      <td>0</td>\n",
              "      <td>0</td>\n",
              "      <td>0</td>\n",
              "      <td>0</td>\n",
              "      <td>0</td>\n",
              "      <td>0</td>\n",
              "      <td>0</td>\n",
              "      <td>0</td>\n",
              "      <td>0</td>\n",
              "      <td>0</td>\n",
              "      <td>0</td>\n",
              "      <td>0</td>\n",
              "      <td>0</td>\n",
              "      <td>0</td>\n",
              "      <td>0</td>\n",
              "      <td>0</td>\n",
              "      <td>0</td>\n",
              "      <td>0</td>\n",
              "      <td>0</td>\n",
              "      <td>0</td>\n",
              "      <td>0</td>\n",
              "      <td>0</td>\n",
              "      <td>0</td>\n",
              "      <td>0</td>\n",
              "      <td>0</td>\n",
              "      <td>0</td>\n",
              "      <td>0</td>\n",
              "      <td>0</td>\n",
              "      <td>0</td>\n",
              "      <td>0</td>\n",
              "      <td>0</td>\n",
              "      <td>0</td>\n",
              "      <td>0</td>\n",
              "      <td>0</td>\n",
              "      <td>0</td>\n",
              "    </tr>\n",
              "    <tr>\n",
              "      <th>2</th>\n",
              "      <td>120</td>\n",
              "      <td>3</td>\n",
              "      <td>3</td>\n",
              "      <td>Hà Nội</td>\n",
              "      <td>Ba Đình</td>\n",
              "      <td>30</td>\n",
              "      <td>Ba Đình Hà Nội</td>\n",
              "      <td>1</td>\n",
              "      <td>0</td>\n",
              "      <td>0</td>\n",
              "      <td>0</td>\n",
              "      <td>0</td>\n",
              "      <td>0</td>\n",
              "      <td>0</td>\n",
              "      <td>0</td>\n",
              "      <td>0</td>\n",
              "      <td>0</td>\n",
              "      <td>0</td>\n",
              "      <td>0</td>\n",
              "      <td>0</td>\n",
              "      <td>0</td>\n",
              "      <td>0</td>\n",
              "      <td>0</td>\n",
              "      <td>0</td>\n",
              "      <td>0</td>\n",
              "      <td>0</td>\n",
              "      <td>0</td>\n",
              "      <td>0</td>\n",
              "      <td>0</td>\n",
              "      <td>0</td>\n",
              "      <td>0</td>\n",
              "      <td>0</td>\n",
              "      <td>0</td>\n",
              "      <td>0</td>\n",
              "      <td>0</td>\n",
              "      <td>0</td>\n",
              "      <td>0</td>\n",
              "      <td>0</td>\n",
              "      <td>0</td>\n",
              "      <td>0</td>\n",
              "      <td>0</td>\n",
              "      <td>0</td>\n",
              "      <td>0</td>\n",
              "      <td>0</td>\n",
              "      <td>0</td>\n",
              "      <td>0</td>\n",
              "      <td>0</td>\n",
              "      <td>0</td>\n",
              "      <td>0</td>\n",
              "      <td>0</td>\n",
              "      <td>0</td>\n",
              "      <td>0</td>\n",
              "      <td>0</td>\n",
              "      <td>0</td>\n",
              "      <td>0</td>\n",
              "      <td>0</td>\n",
              "    </tr>\n",
              "  </tbody>\n",
              "</table>\n",
              "</div>"
            ],
            "text/plain": [
              "  total_site_area property_name  ... Vũng Tàu Bà Rịa Vũng Tàu Đống Đa Hà Nội\n",
              "0           78.42             3  ...                        0              0\n",
              "1              57             3  ...                        0              0\n",
              "2             120             3  ...                        0              0\n",
              "\n",
              "[3 rows x 56 columns]"
            ]
          },
          "metadata": {},
          "execution_count": 33
        }
      ]
    },
    {
      "cell_type": "code",
      "metadata": {
        "colab": {
          "base_uri": "https://localhost:8080/",
          "height": 246
        },
        "id": "e30NV5HShIz-",
        "outputId": "05513f0e-fb5d-44ad-d155-5609d5bb40f3"
      },
      "source": [
        "df6 = df5.drop(['city','district','location'],axis='columns')\n",
        "df6.head(3)"
      ],
      "execution_count": null,
      "outputs": [
        {
          "output_type": "execute_result",
          "data": {
            "text/html": [
              "<div>\n",
              "<style scoped>\n",
              "    .dataframe tbody tr th:only-of-type {\n",
              "        vertical-align: middle;\n",
              "    }\n",
              "\n",
              "    .dataframe tbody tr th {\n",
              "        vertical-align: top;\n",
              "    }\n",
              "\n",
              "    .dataframe thead th {\n",
              "        text-align: right;\n",
              "    }\n",
              "</style>\n",
              "<table border=\"1\" class=\"dataframe\">\n",
              "  <thead>\n",
              "    <tr style=\"text-align: right;\">\n",
              "      <th></th>\n",
              "      <th>total_site_area</th>\n",
              "      <th>property_name</th>\n",
              "      <th>number_of_bedrooms</th>\n",
              "      <th>price_unit</th>\n",
              "      <th>Ba Đình Hà Nội</th>\n",
              "      <th>Biên Hòa  Đồng Nai</th>\n",
              "      <th>Bình Chánh TP.Hồ Chí Minh</th>\n",
              "      <th>Bình Thạnh TP.Hồ Chí Minh</th>\n",
              "      <th>Bình Tân TP.Hồ Chí Minh</th>\n",
              "      <th>Bắc Từ Liêm Hà Nội</th>\n",
              "      <th>Cầu Giấy Hà Nội</th>\n",
              "      <th>Dĩ An Bình Dương</th>\n",
              "      <th>Gia Lâm Hà Nội</th>\n",
              "      <th>Gò Vấp TP.Hồ Chí Minh</th>\n",
              "      <th>Hai Bà Trưng Hà Nội</th>\n",
              "      <th>Hoài Đức Hà Nội</th>\n",
              "      <th>Hoàn Kiếm Hà Nội</th>\n",
              "      <th>Hoàng Mai Hà Nội</th>\n",
              "      <th>Hà Đông Hà Nội</th>\n",
              "      <th>Hải Châu Đà Nẵng</th>\n",
              "      <th>Hồng Bàng  Hải Phòng</th>\n",
              "      <th>Long Biên Hà Nội</th>\n",
              "      <th>Lê Chân  Hải Phòng</th>\n",
              "      <th>Nam Từ Liêm Hà Nội</th>\n",
              "      <th>Ngô Quyền  Hải Phòng</th>\n",
              "      <th>Nha Trang  Khánh Hòa</th>\n",
              "      <th>Nhà Bè TP.Hồ Chí Minh</th>\n",
              "      <th>Phú Nhuận TP.Hồ Chí Minh</th>\n",
              "      <th>Quận 1 TP.Hồ Chí Minh</th>\n",
              "      <th>Quận 10 TP.Hồ Chí Minh</th>\n",
              "      <th>Quận 11 TP.Hồ Chí Minh</th>\n",
              "      <th>Quận 12 TP.Hồ Chí Minh</th>\n",
              "      <th>Quận 2 TP.Hồ Chí Minh</th>\n",
              "      <th>Quận 3 TP.Hồ Chí Minh</th>\n",
              "      <th>Quận 4 TP.Hồ Chí Minh</th>\n",
              "      <th>Quận 5 TP.Hồ Chí Minh</th>\n",
              "      <th>Quận 6 TP.Hồ Chí Minh</th>\n",
              "      <th>Quận 7 TP.Hồ Chí Minh</th>\n",
              "      <th>Quận 8 TP.Hồ Chí Minh</th>\n",
              "      <th>Quận 9 TP.Hồ Chí Minh</th>\n",
              "      <th>Sơn Trà Đà Nẵng</th>\n",
              "      <th>Thanh Khê Đà Nẵng</th>\n",
              "      <th>Thanh Trì Hà Nội</th>\n",
              "      <th>Thanh Xuân Hà Nội</th>\n",
              "      <th>Thuận An Bình Dương</th>\n",
              "      <th>Thủ Dầu Một Bình Dương</th>\n",
              "      <th>Thủ Đức TP.Hồ Chí Minh</th>\n",
              "      <th>Tân Bình TP.Hồ Chí Minh</th>\n",
              "      <th>Tân Phú TP.Hồ Chí Minh</th>\n",
              "      <th>Tây Hồ Hà Nội</th>\n",
              "      <th>Văn Giang  Hưng Yên</th>\n",
              "      <th>Vũng Tàu Bà Rịa Vũng Tàu</th>\n",
              "      <th>Đống Đa Hà Nội</th>\n",
              "    </tr>\n",
              "  </thead>\n",
              "  <tbody>\n",
              "    <tr>\n",
              "      <th>0</th>\n",
              "      <td>78.42</td>\n",
              "      <td>3</td>\n",
              "      <td>2</td>\n",
              "      <td>22</td>\n",
              "      <td>1</td>\n",
              "      <td>0</td>\n",
              "      <td>0</td>\n",
              "      <td>0</td>\n",
              "      <td>0</td>\n",
              "      <td>0</td>\n",
              "      <td>0</td>\n",
              "      <td>0</td>\n",
              "      <td>0</td>\n",
              "      <td>0</td>\n",
              "      <td>0</td>\n",
              "      <td>0</td>\n",
              "      <td>0</td>\n",
              "      <td>0</td>\n",
              "      <td>0</td>\n",
              "      <td>0</td>\n",
              "      <td>0</td>\n",
              "      <td>0</td>\n",
              "      <td>0</td>\n",
              "      <td>0</td>\n",
              "      <td>0</td>\n",
              "      <td>0</td>\n",
              "      <td>0</td>\n",
              "      <td>0</td>\n",
              "      <td>0</td>\n",
              "      <td>0</td>\n",
              "      <td>0</td>\n",
              "      <td>0</td>\n",
              "      <td>0</td>\n",
              "      <td>0</td>\n",
              "      <td>0</td>\n",
              "      <td>0</td>\n",
              "      <td>0</td>\n",
              "      <td>0</td>\n",
              "      <td>0</td>\n",
              "      <td>0</td>\n",
              "      <td>0</td>\n",
              "      <td>0</td>\n",
              "      <td>0</td>\n",
              "      <td>0</td>\n",
              "      <td>0</td>\n",
              "      <td>0</td>\n",
              "      <td>0</td>\n",
              "      <td>0</td>\n",
              "      <td>0</td>\n",
              "      <td>0</td>\n",
              "      <td>0</td>\n",
              "      <td>0</td>\n",
              "      <td>0</td>\n",
              "    </tr>\n",
              "    <tr>\n",
              "      <th>1</th>\n",
              "      <td>57</td>\n",
              "      <td>3</td>\n",
              "      <td>1</td>\n",
              "      <td>17</td>\n",
              "      <td>1</td>\n",
              "      <td>0</td>\n",
              "      <td>0</td>\n",
              "      <td>0</td>\n",
              "      <td>0</td>\n",
              "      <td>0</td>\n",
              "      <td>0</td>\n",
              "      <td>0</td>\n",
              "      <td>0</td>\n",
              "      <td>0</td>\n",
              "      <td>0</td>\n",
              "      <td>0</td>\n",
              "      <td>0</td>\n",
              "      <td>0</td>\n",
              "      <td>0</td>\n",
              "      <td>0</td>\n",
              "      <td>0</td>\n",
              "      <td>0</td>\n",
              "      <td>0</td>\n",
              "      <td>0</td>\n",
              "      <td>0</td>\n",
              "      <td>0</td>\n",
              "      <td>0</td>\n",
              "      <td>0</td>\n",
              "      <td>0</td>\n",
              "      <td>0</td>\n",
              "      <td>0</td>\n",
              "      <td>0</td>\n",
              "      <td>0</td>\n",
              "      <td>0</td>\n",
              "      <td>0</td>\n",
              "      <td>0</td>\n",
              "      <td>0</td>\n",
              "      <td>0</td>\n",
              "      <td>0</td>\n",
              "      <td>0</td>\n",
              "      <td>0</td>\n",
              "      <td>0</td>\n",
              "      <td>0</td>\n",
              "      <td>0</td>\n",
              "      <td>0</td>\n",
              "      <td>0</td>\n",
              "      <td>0</td>\n",
              "      <td>0</td>\n",
              "      <td>0</td>\n",
              "      <td>0</td>\n",
              "      <td>0</td>\n",
              "      <td>0</td>\n",
              "      <td>0</td>\n",
              "    </tr>\n",
              "    <tr>\n",
              "      <th>2</th>\n",
              "      <td>120</td>\n",
              "      <td>3</td>\n",
              "      <td>3</td>\n",
              "      <td>30</td>\n",
              "      <td>1</td>\n",
              "      <td>0</td>\n",
              "      <td>0</td>\n",
              "      <td>0</td>\n",
              "      <td>0</td>\n",
              "      <td>0</td>\n",
              "      <td>0</td>\n",
              "      <td>0</td>\n",
              "      <td>0</td>\n",
              "      <td>0</td>\n",
              "      <td>0</td>\n",
              "      <td>0</td>\n",
              "      <td>0</td>\n",
              "      <td>0</td>\n",
              "      <td>0</td>\n",
              "      <td>0</td>\n",
              "      <td>0</td>\n",
              "      <td>0</td>\n",
              "      <td>0</td>\n",
              "      <td>0</td>\n",
              "      <td>0</td>\n",
              "      <td>0</td>\n",
              "      <td>0</td>\n",
              "      <td>0</td>\n",
              "      <td>0</td>\n",
              "      <td>0</td>\n",
              "      <td>0</td>\n",
              "      <td>0</td>\n",
              "      <td>0</td>\n",
              "      <td>0</td>\n",
              "      <td>0</td>\n",
              "      <td>0</td>\n",
              "      <td>0</td>\n",
              "      <td>0</td>\n",
              "      <td>0</td>\n",
              "      <td>0</td>\n",
              "      <td>0</td>\n",
              "      <td>0</td>\n",
              "      <td>0</td>\n",
              "      <td>0</td>\n",
              "      <td>0</td>\n",
              "      <td>0</td>\n",
              "      <td>0</td>\n",
              "      <td>0</td>\n",
              "      <td>0</td>\n",
              "      <td>0</td>\n",
              "      <td>0</td>\n",
              "      <td>0</td>\n",
              "      <td>0</td>\n",
              "    </tr>\n",
              "  </tbody>\n",
              "</table>\n",
              "</div>"
            ],
            "text/plain": [
              "  total_site_area property_name  ... Vũng Tàu Bà Rịa Vũng Tàu Đống Đa Hà Nội\n",
              "0           78.42             3  ...                        0              0\n",
              "1              57             3  ...                        0              0\n",
              "2             120             3  ...                        0              0\n",
              "\n",
              "[3 rows x 53 columns]"
            ]
          },
          "metadata": {},
          "execution_count": 34
        }
      ]
    },
    {
      "cell_type": "code",
      "metadata": {
        "colab": {
          "base_uri": "https://localhost:8080/"
        },
        "id": "SqUFhtCghg9d",
        "outputId": "4210e013-2420-4980-f905-af3424310212"
      },
      "source": [
        "df6.shape"
      ],
      "execution_count": null,
      "outputs": [
        {
          "output_type": "execute_result",
          "data": {
            "text/plain": [
              "(9461, 53)"
            ]
          },
          "metadata": {},
          "execution_count": 35
        }
      ]
    },
    {
      "cell_type": "code",
      "metadata": {
        "colab": {
          "base_uri": "https://localhost:8080/",
          "height": 307
        },
        "id": "bzEIBO9shjzK",
        "outputId": "84711f7f-8a75-4316-98d6-0ababfd1135c"
      },
      "source": [
        "X = df6.drop('price_unit', axis = 'columns')\n",
        "X.head()\n",
        "#X.columns"
      ],
      "execution_count": null,
      "outputs": [
        {
          "output_type": "execute_result",
          "data": {
            "text/html": [
              "<div>\n",
              "<style scoped>\n",
              "    .dataframe tbody tr th:only-of-type {\n",
              "        vertical-align: middle;\n",
              "    }\n",
              "\n",
              "    .dataframe tbody tr th {\n",
              "        vertical-align: top;\n",
              "    }\n",
              "\n",
              "    .dataframe thead th {\n",
              "        text-align: right;\n",
              "    }\n",
              "</style>\n",
              "<table border=\"1\" class=\"dataframe\">\n",
              "  <thead>\n",
              "    <tr style=\"text-align: right;\">\n",
              "      <th></th>\n",
              "      <th>total_site_area</th>\n",
              "      <th>property_name</th>\n",
              "      <th>number_of_bedrooms</th>\n",
              "      <th>Ba Đình Hà Nội</th>\n",
              "      <th>Biên Hòa  Đồng Nai</th>\n",
              "      <th>Bình Chánh TP.Hồ Chí Minh</th>\n",
              "      <th>Bình Thạnh TP.Hồ Chí Minh</th>\n",
              "      <th>Bình Tân TP.Hồ Chí Minh</th>\n",
              "      <th>Bắc Từ Liêm Hà Nội</th>\n",
              "      <th>Cầu Giấy Hà Nội</th>\n",
              "      <th>Dĩ An Bình Dương</th>\n",
              "      <th>Gia Lâm Hà Nội</th>\n",
              "      <th>Gò Vấp TP.Hồ Chí Minh</th>\n",
              "      <th>Hai Bà Trưng Hà Nội</th>\n",
              "      <th>Hoài Đức Hà Nội</th>\n",
              "      <th>Hoàn Kiếm Hà Nội</th>\n",
              "      <th>Hoàng Mai Hà Nội</th>\n",
              "      <th>Hà Đông Hà Nội</th>\n",
              "      <th>Hải Châu Đà Nẵng</th>\n",
              "      <th>Hồng Bàng  Hải Phòng</th>\n",
              "      <th>Long Biên Hà Nội</th>\n",
              "      <th>Lê Chân  Hải Phòng</th>\n",
              "      <th>Nam Từ Liêm Hà Nội</th>\n",
              "      <th>Ngô Quyền  Hải Phòng</th>\n",
              "      <th>Nha Trang  Khánh Hòa</th>\n",
              "      <th>Nhà Bè TP.Hồ Chí Minh</th>\n",
              "      <th>Phú Nhuận TP.Hồ Chí Minh</th>\n",
              "      <th>Quận 1 TP.Hồ Chí Minh</th>\n",
              "      <th>Quận 10 TP.Hồ Chí Minh</th>\n",
              "      <th>Quận 11 TP.Hồ Chí Minh</th>\n",
              "      <th>Quận 12 TP.Hồ Chí Minh</th>\n",
              "      <th>Quận 2 TP.Hồ Chí Minh</th>\n",
              "      <th>Quận 3 TP.Hồ Chí Minh</th>\n",
              "      <th>Quận 4 TP.Hồ Chí Minh</th>\n",
              "      <th>Quận 5 TP.Hồ Chí Minh</th>\n",
              "      <th>Quận 6 TP.Hồ Chí Minh</th>\n",
              "      <th>Quận 7 TP.Hồ Chí Minh</th>\n",
              "      <th>Quận 8 TP.Hồ Chí Minh</th>\n",
              "      <th>Quận 9 TP.Hồ Chí Minh</th>\n",
              "      <th>Sơn Trà Đà Nẵng</th>\n",
              "      <th>Thanh Khê Đà Nẵng</th>\n",
              "      <th>Thanh Trì Hà Nội</th>\n",
              "      <th>Thanh Xuân Hà Nội</th>\n",
              "      <th>Thuận An Bình Dương</th>\n",
              "      <th>Thủ Dầu Một Bình Dương</th>\n",
              "      <th>Thủ Đức TP.Hồ Chí Minh</th>\n",
              "      <th>Tân Bình TP.Hồ Chí Minh</th>\n",
              "      <th>Tân Phú TP.Hồ Chí Minh</th>\n",
              "      <th>Tây Hồ Hà Nội</th>\n",
              "      <th>Văn Giang  Hưng Yên</th>\n",
              "      <th>Vũng Tàu Bà Rịa Vũng Tàu</th>\n",
              "      <th>Đống Đa Hà Nội</th>\n",
              "    </tr>\n",
              "  </thead>\n",
              "  <tbody>\n",
              "    <tr>\n",
              "      <th>0</th>\n",
              "      <td>78.42</td>\n",
              "      <td>3</td>\n",
              "      <td>2</td>\n",
              "      <td>1</td>\n",
              "      <td>0</td>\n",
              "      <td>0</td>\n",
              "      <td>0</td>\n",
              "      <td>0</td>\n",
              "      <td>0</td>\n",
              "      <td>0</td>\n",
              "      <td>0</td>\n",
              "      <td>0</td>\n",
              "      <td>0</td>\n",
              "      <td>0</td>\n",
              "      <td>0</td>\n",
              "      <td>0</td>\n",
              "      <td>0</td>\n",
              "      <td>0</td>\n",
              "      <td>0</td>\n",
              "      <td>0</td>\n",
              "      <td>0</td>\n",
              "      <td>0</td>\n",
              "      <td>0</td>\n",
              "      <td>0</td>\n",
              "      <td>0</td>\n",
              "      <td>0</td>\n",
              "      <td>0</td>\n",
              "      <td>0</td>\n",
              "      <td>0</td>\n",
              "      <td>0</td>\n",
              "      <td>0</td>\n",
              "      <td>0</td>\n",
              "      <td>0</td>\n",
              "      <td>0</td>\n",
              "      <td>0</td>\n",
              "      <td>0</td>\n",
              "      <td>0</td>\n",
              "      <td>0</td>\n",
              "      <td>0</td>\n",
              "      <td>0</td>\n",
              "      <td>0</td>\n",
              "      <td>0</td>\n",
              "      <td>0</td>\n",
              "      <td>0</td>\n",
              "      <td>0</td>\n",
              "      <td>0</td>\n",
              "      <td>0</td>\n",
              "      <td>0</td>\n",
              "      <td>0</td>\n",
              "      <td>0</td>\n",
              "      <td>0</td>\n",
              "      <td>0</td>\n",
              "    </tr>\n",
              "    <tr>\n",
              "      <th>1</th>\n",
              "      <td>57</td>\n",
              "      <td>3</td>\n",
              "      <td>1</td>\n",
              "      <td>1</td>\n",
              "      <td>0</td>\n",
              "      <td>0</td>\n",
              "      <td>0</td>\n",
              "      <td>0</td>\n",
              "      <td>0</td>\n",
              "      <td>0</td>\n",
              "      <td>0</td>\n",
              "      <td>0</td>\n",
              "      <td>0</td>\n",
              "      <td>0</td>\n",
              "      <td>0</td>\n",
              "      <td>0</td>\n",
              "      <td>0</td>\n",
              "      <td>0</td>\n",
              "      <td>0</td>\n",
              "      <td>0</td>\n",
              "      <td>0</td>\n",
              "      <td>0</td>\n",
              "      <td>0</td>\n",
              "      <td>0</td>\n",
              "      <td>0</td>\n",
              "      <td>0</td>\n",
              "      <td>0</td>\n",
              "      <td>0</td>\n",
              "      <td>0</td>\n",
              "      <td>0</td>\n",
              "      <td>0</td>\n",
              "      <td>0</td>\n",
              "      <td>0</td>\n",
              "      <td>0</td>\n",
              "      <td>0</td>\n",
              "      <td>0</td>\n",
              "      <td>0</td>\n",
              "      <td>0</td>\n",
              "      <td>0</td>\n",
              "      <td>0</td>\n",
              "      <td>0</td>\n",
              "      <td>0</td>\n",
              "      <td>0</td>\n",
              "      <td>0</td>\n",
              "      <td>0</td>\n",
              "      <td>0</td>\n",
              "      <td>0</td>\n",
              "      <td>0</td>\n",
              "      <td>0</td>\n",
              "      <td>0</td>\n",
              "      <td>0</td>\n",
              "      <td>0</td>\n",
              "    </tr>\n",
              "    <tr>\n",
              "      <th>2</th>\n",
              "      <td>120</td>\n",
              "      <td>3</td>\n",
              "      <td>3</td>\n",
              "      <td>1</td>\n",
              "      <td>0</td>\n",
              "      <td>0</td>\n",
              "      <td>0</td>\n",
              "      <td>0</td>\n",
              "      <td>0</td>\n",
              "      <td>0</td>\n",
              "      <td>0</td>\n",
              "      <td>0</td>\n",
              "      <td>0</td>\n",
              "      <td>0</td>\n",
              "      <td>0</td>\n",
              "      <td>0</td>\n",
              "      <td>0</td>\n",
              "      <td>0</td>\n",
              "      <td>0</td>\n",
              "      <td>0</td>\n",
              "      <td>0</td>\n",
              "      <td>0</td>\n",
              "      <td>0</td>\n",
              "      <td>0</td>\n",
              "      <td>0</td>\n",
              "      <td>0</td>\n",
              "      <td>0</td>\n",
              "      <td>0</td>\n",
              "      <td>0</td>\n",
              "      <td>0</td>\n",
              "      <td>0</td>\n",
              "      <td>0</td>\n",
              "      <td>0</td>\n",
              "      <td>0</td>\n",
              "      <td>0</td>\n",
              "      <td>0</td>\n",
              "      <td>0</td>\n",
              "      <td>0</td>\n",
              "      <td>0</td>\n",
              "      <td>0</td>\n",
              "      <td>0</td>\n",
              "      <td>0</td>\n",
              "      <td>0</td>\n",
              "      <td>0</td>\n",
              "      <td>0</td>\n",
              "      <td>0</td>\n",
              "      <td>0</td>\n",
              "      <td>0</td>\n",
              "      <td>0</td>\n",
              "      <td>0</td>\n",
              "      <td>0</td>\n",
              "      <td>0</td>\n",
              "    </tr>\n",
              "    <tr>\n",
              "      <th>3</th>\n",
              "      <td>80</td>\n",
              "      <td>3</td>\n",
              "      <td>2</td>\n",
              "      <td>1</td>\n",
              "      <td>0</td>\n",
              "      <td>0</td>\n",
              "      <td>0</td>\n",
              "      <td>0</td>\n",
              "      <td>0</td>\n",
              "      <td>0</td>\n",
              "      <td>0</td>\n",
              "      <td>0</td>\n",
              "      <td>0</td>\n",
              "      <td>0</td>\n",
              "      <td>0</td>\n",
              "      <td>0</td>\n",
              "      <td>0</td>\n",
              "      <td>0</td>\n",
              "      <td>0</td>\n",
              "      <td>0</td>\n",
              "      <td>0</td>\n",
              "      <td>0</td>\n",
              "      <td>0</td>\n",
              "      <td>0</td>\n",
              "      <td>0</td>\n",
              "      <td>0</td>\n",
              "      <td>0</td>\n",
              "      <td>0</td>\n",
              "      <td>0</td>\n",
              "      <td>0</td>\n",
              "      <td>0</td>\n",
              "      <td>0</td>\n",
              "      <td>0</td>\n",
              "      <td>0</td>\n",
              "      <td>0</td>\n",
              "      <td>0</td>\n",
              "      <td>0</td>\n",
              "      <td>0</td>\n",
              "      <td>0</td>\n",
              "      <td>0</td>\n",
              "      <td>0</td>\n",
              "      <td>0</td>\n",
              "      <td>0</td>\n",
              "      <td>0</td>\n",
              "      <td>0</td>\n",
              "      <td>0</td>\n",
              "      <td>0</td>\n",
              "      <td>0</td>\n",
              "      <td>0</td>\n",
              "      <td>0</td>\n",
              "      <td>0</td>\n",
              "      <td>0</td>\n",
              "    </tr>\n",
              "    <tr>\n",
              "      <th>4</th>\n",
              "      <td>111</td>\n",
              "      <td>3</td>\n",
              "      <td>2</td>\n",
              "      <td>1</td>\n",
              "      <td>0</td>\n",
              "      <td>0</td>\n",
              "      <td>0</td>\n",
              "      <td>0</td>\n",
              "      <td>0</td>\n",
              "      <td>0</td>\n",
              "      <td>0</td>\n",
              "      <td>0</td>\n",
              "      <td>0</td>\n",
              "      <td>0</td>\n",
              "      <td>0</td>\n",
              "      <td>0</td>\n",
              "      <td>0</td>\n",
              "      <td>0</td>\n",
              "      <td>0</td>\n",
              "      <td>0</td>\n",
              "      <td>0</td>\n",
              "      <td>0</td>\n",
              "      <td>0</td>\n",
              "      <td>0</td>\n",
              "      <td>0</td>\n",
              "      <td>0</td>\n",
              "      <td>0</td>\n",
              "      <td>0</td>\n",
              "      <td>0</td>\n",
              "      <td>0</td>\n",
              "      <td>0</td>\n",
              "      <td>0</td>\n",
              "      <td>0</td>\n",
              "      <td>0</td>\n",
              "      <td>0</td>\n",
              "      <td>0</td>\n",
              "      <td>0</td>\n",
              "      <td>0</td>\n",
              "      <td>0</td>\n",
              "      <td>0</td>\n",
              "      <td>0</td>\n",
              "      <td>0</td>\n",
              "      <td>0</td>\n",
              "      <td>0</td>\n",
              "      <td>0</td>\n",
              "      <td>0</td>\n",
              "      <td>0</td>\n",
              "      <td>0</td>\n",
              "      <td>0</td>\n",
              "      <td>0</td>\n",
              "      <td>0</td>\n",
              "      <td>0</td>\n",
              "    </tr>\n",
              "  </tbody>\n",
              "</table>\n",
              "</div>"
            ],
            "text/plain": [
              "  total_site_area property_name  ... Vũng Tàu Bà Rịa Vũng Tàu  Đống Đa Hà Nội\n",
              "0           78.42             3  ...                        0               0\n",
              "1              57             3  ...                        0               0\n",
              "2             120             3  ...                        0               0\n",
              "3              80             3  ...                        0               0\n",
              "4             111             3  ...                        0               0\n",
              "\n",
              "[5 rows x 52 columns]"
            ]
          },
          "metadata": {},
          "execution_count": 36
        }
      ]
    },
    {
      "cell_type": "code",
      "metadata": {
        "colab": {
          "base_uri": "https://localhost:8080/"
        },
        "id": "e2u8Kuk8hvgK",
        "outputId": "c624a07f-b6ff-46e9-8d30-0112618e48ff"
      },
      "source": [
        "y = df6.price_unit\n",
        "y.head()"
      ],
      "execution_count": null,
      "outputs": [
        {
          "output_type": "execute_result",
          "data": {
            "text/plain": [
              "0    22\n",
              "1    17\n",
              "2    30\n",
              "3    20\n",
              "4    18\n",
              "Name: price_unit, dtype: object"
            ]
          },
          "metadata": {},
          "execution_count": 245
        }
      ]
    },
    {
      "cell_type": "code",
      "metadata": {
        "id": "5y7GlipZh3Jq"
      },
      "source": [
        "#20% test - 80% train\n",
        "from sklearn.model_selection import train_test_split\n",
        "X_train, X_test, y_train, y_test = train_test_split(X,y,test_size=0.2,random_state=10)"
      ],
      "execution_count": null,
      "outputs": []
    },
    {
      "cell_type": "code",
      "metadata": {
        "colab": {
          "base_uri": "https://localhost:8080/"
        },
        "id": "m0mVX5UiiS-Y",
        "outputId": "26f541e2-4244-48b7-bce3-38eff733bcbb"
      },
      "source": [
        "from sklearn.linear_model import LinearRegression\n",
        "lr_clf = LinearRegression()\n",
        "lr_clf.fit(X_train, y_train)\n",
        "lr_clf.score(X_test,y_test)"
      ],
      "execution_count": null,
      "outputs": [
        {
          "output_type": "execute_result",
          "data": {
            "text/plain": [
              "0.4690939532036724"
            ]
          },
          "metadata": {},
          "execution_count": 249
        }
      ]
    },
    {
      "cell_type": "code",
      "metadata": {
        "colab": {
          "base_uri": "https://localhost:8080/"
        },
        "id": "7H-MVolBioQa",
        "outputId": "694a27b8-e87b-4330-b615-e1aee0c52850"
      },
      "source": [
        "#K-fold cross val evaluation\n",
        "from sklearn.model_selection import ShuffleSplit\n",
        "from sklearn.model_selection import cross_val_score\n",
        "cv = ShuffleSplit(n_splits = 5, test_size = 0.2, random_state = 0)\n",
        "cross_val_score(LinearRegression(), X, y, cv = cv)"
      ],
      "execution_count": null,
      "outputs": [
        {
          "output_type": "execute_result",
          "data": {
            "text/plain": [
              "array([0.4996318 , 0.53155298, 0.58736995, 0.56398274, 0.49490644])"
            ]
          },
          "metadata": {},
          "execution_count": 250
        }
      ]
    },
    {
      "cell_type": "code",
      "metadata": {
        "colab": {
          "base_uri": "https://localhost:8080/",
          "height": 142
        },
        "id": "rlN9eEj7jCwk",
        "outputId": "4723f67c-b608-4a58-9d9b-d6c35298f556"
      },
      "source": [
        "#Lasso & Decision Tree\n",
        "from sklearn.model_selection import GridSearchCV\n",
        "from sklearn.linear_model import Lasso\n",
        "from sklearn.tree import DecisionTreeRegressor\n",
        "\n",
        "def find_best_model_using_gridsearchcv(X,y):\n",
        "    algos = {\n",
        "        'linear_regression': {\n",
        "            'model': LinearRegression(),\n",
        "            'params':{\n",
        "                'normalize': [True, False]\n",
        "            }\n",
        "        },\n",
        "        'lasso': {\n",
        "            'model': Lasso(),\n",
        "            'params': {\n",
        "                'alpha': [1,2],\n",
        "                'selection': ['random', 'cyclic']\n",
        "            }\n",
        "        },\n",
        "        'decision_tree': {\n",
        "            'model': DecisionTreeRegressor(),\n",
        "            'params': {\n",
        "                'criterion': ['mse', 'friedman_mse'],\n",
        "                'splitter': ['best', 'random']\n",
        "            }\n",
        "        }\n",
        "    }\n",
        "    scores = []\n",
        "    cv = ShuffleSplit(n_splits=5, test_size = 0.2, random_state = 0)\n",
        "    for algo_name, config in algos.items():\n",
        "        gs = GridSearchCV(config['model'], config['params'], cv=cv, return_train_score = False)\n",
        "        gs.fit(X,y)\n",
        "        scores.append({\n",
        "            'model': algo_name,\n",
        "            'best_score': gs.best_score_,\n",
        "            'best_params': gs.best_params_\n",
        "        })\n",
        "    return pd.DataFrame(scores, columns=['model','best_score','best_params'])\n",
        "\n",
        "find_best_model_using_gridsearchcv(X,y)"
      ],
      "execution_count": null,
      "outputs": [
        {
          "output_type": "execute_result",
          "data": {
            "text/html": [
              "<div>\n",
              "<style scoped>\n",
              "    .dataframe tbody tr th:only-of-type {\n",
              "        vertical-align: middle;\n",
              "    }\n",
              "\n",
              "    .dataframe tbody tr th {\n",
              "        vertical-align: top;\n",
              "    }\n",
              "\n",
              "    .dataframe thead th {\n",
              "        text-align: right;\n",
              "    }\n",
              "</style>\n",
              "<table border=\"1\" class=\"dataframe\">\n",
              "  <thead>\n",
              "    <tr style=\"text-align: right;\">\n",
              "      <th></th>\n",
              "      <th>model</th>\n",
              "      <th>best_score</th>\n",
              "      <th>best_params</th>\n",
              "    </tr>\n",
              "  </thead>\n",
              "  <tbody>\n",
              "    <tr>\n",
              "      <th>0</th>\n",
              "      <td>linear_regression</td>\n",
              "      <td>0.535489</td>\n",
              "      <td>{'normalize': False}</td>\n",
              "    </tr>\n",
              "    <tr>\n",
              "      <th>1</th>\n",
              "      <td>lasso</td>\n",
              "      <td>0.340211</td>\n",
              "      <td>{'alpha': 1, 'selection': 'cyclic'}</td>\n",
              "    </tr>\n",
              "    <tr>\n",
              "      <th>2</th>\n",
              "      <td>decision_tree</td>\n",
              "      <td>0.550932</td>\n",
              "      <td>{'criterion': 'mse', 'splitter': 'best'}</td>\n",
              "    </tr>\n",
              "  </tbody>\n",
              "</table>\n",
              "</div>"
            ],
            "text/plain": [
              "               model  best_score                               best_params\n",
              "0  linear_regression    0.535489                      {'normalize': False}\n",
              "1              lasso    0.340211       {'alpha': 1, 'selection': 'cyclic'}\n",
              "2      decision_tree    0.550932  {'criterion': 'mse', 'splitter': 'best'}"
            ]
          },
          "metadata": {},
          "execution_count": 254
        }
      ]
    },
    {
      "cell_type": "code",
      "metadata": {
        "id": "kw38Gi5Vnc26"
      },
      "source": [
        "def predict_price(location,total_site_area,property_name,number_of_bedrooms):\n",
        "    loc_index = np.where(X.columns==location)[0][0]\n",
        "    x = np.zeros(len(X.columns))\n",
        "    x[0] = total_site_area\n",
        "    x[1] = property_name\n",
        "    x[2] = number_of_bedrooms\n",
        "    if loc_index >= 0:\n",
        "        x[loc_index] =  1\n",
        "    return lr_clf.predict([x])[0]"
      ],
      "execution_count": null,
      "outputs": []
    },
    {
      "cell_type": "code",
      "metadata": {
        "colab": {
          "base_uri": "https://localhost:8080/"
        },
        "id": "_XCwjWefpYA7",
        "outputId": "ae0632b8-64c8-471e-df6b-e2ae5913b610"
      },
      "source": [
        "predict_price('Ba Đình Hà Nội', 78.42, 3, 2) # ghi chú đơn vị"
      ],
      "execution_count": null,
      "outputs": [
        {
          "output_type": "execute_result",
          "data": {
            "text/plain": [
              "14.57550360419527"
            ]
          },
          "metadata": {},
          "execution_count": 280
        }
      ]
    }
  ]
}